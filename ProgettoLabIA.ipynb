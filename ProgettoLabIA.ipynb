{
  "cells": [
    {
      "cell_type": "markdown",
      "metadata": {
        "id": "view-in-github",
        "colab_type": "text"
      },
      "source": [
        "<a href=\"https://colab.research.google.com/github/ElenaBianchini/ColoringGrayscaleImages/blob/main/ProgettoLabIA.ipynb\" target=\"_parent\"><img src=\"https://colab.research.google.com/assets/colab-badge.svg\" alt=\"Open In Colab\"/></a>"
      ]
    },
    {
      "cell_type": "markdown",
      "metadata": {
        "id": "p9vej9xTCko7"
      },
      "source": [
        "# **Progetto di Laboratorio di Intelligenza Artificiale e Grafica Interattiva**"
      ]
    },
    {
      "cell_type": "markdown",
      "metadata": {
        "id": "3UMQe_W5sIUO"
      },
      "source": [
        "# Import"
      ]
    },
    {
      "cell_type": "code",
      "execution_count": 2,
      "metadata": {
        "id": "YvN1ozJhtapC"
      },
      "outputs": [],
      "source": [
        "%matplotlib inline"
      ]
    },
    {
      "cell_type": "code",
      "execution_count": 17,
      "metadata": {
        "colab": {
          "base_uri": "https://localhost:8080/"
        },
        "id": "dwjW6FAknFw_",
        "outputId": "dff867d2-508e-4f0e-8b01-bdea985e2ea1"
      },
      "outputs": [
        {
          "output_type": "stream",
          "name": "stdout",
          "text": [
            "Drive already mounted at /content/drive; to attempt to forcibly remount, call drive.mount(\"/content/drive\", force_remount=True).\n"
          ]
        }
      ],
      "source": [
        "from google.colab import drive\n",
        "drive.mount('/content/drive')"
      ]
    },
    {
      "cell_type": "code",
      "execution_count": 4,
      "metadata": {
        "id": "6ajn5CNzCdX8"
      },
      "outputs": [],
      "source": [
        "import os\n",
        "import torch\n",
        "import numpy as np\n",
        "import matplotlib.pyplot as plt\n",
        "import torchvision \n",
        "import torchvision.transforms as transforms\n",
        "import torch.nn as nn\n",
        "import torch.nn.functional as F\n",
        "import torch.optim as optim\n",
        "from skimage import color\n",
        "from PIL import Image"
      ]
    },
    {
      "cell_type": "markdown",
      "metadata": {
        "id": "iC8ms4b01Gaq"
      },
      "source": [
        "# Impostazione dei parametri"
      ]
    },
    {
      "cell_type": "code",
      "execution_count": 54,
      "metadata": {
        "id": "XYgrYPlC1KfA"
      },
      "outputs": [],
      "source": [
        "num_epochs = 2\n",
        "batch_size = 32\n",
        "learning_rate = 1e-2\n",
        "use_gpu = torch.cuda.is_available()"
      ]
    },
    {
      "cell_type": "code",
      "execution_count": 6,
      "metadata": {
        "id": "xZU13MrFxlbX"
      },
      "outputs": [],
      "source": [
        "if use_gpu:\n",
        "  device = torch.device(\"cuda:0\")\n",
        "else:\n",
        "  device = torch.device(\"cpu\")"
      ]
    },
    {
      "cell_type": "code",
      "execution_count": 7,
      "metadata": {
        "colab": {
          "base_uri": "https://localhost:8080/"
        },
        "id": "Lf6pZdGmFuXK",
        "outputId": "8f07fc39-e231-4a9a-e4ff-c279b121ffe8"
      },
      "outputs": [
        {
          "output_type": "execute_result",
          "data": {
            "text/plain": [
              "device(type='cuda', index=0)"
            ]
          },
          "metadata": {},
          "execution_count": 7
        }
      ],
      "source": [
        "device"
      ]
    },
    {
      "cell_type": "markdown",
      "metadata": {
        "id": "RALMpfJNgJx4"
      },
      "source": [
        "# Paths"
      ]
    },
    {
      "cell_type": "code",
      "execution_count": 8,
      "metadata": {
        "id": "ufJf6XFNgJx5"
      },
      "outputs": [],
      "source": [
        "root_path = \"/content/drive/MyDrive/COCO\""
      ]
    },
    {
      "cell_type": "code",
      "execution_count": 9,
      "metadata": {
        "id": "JvQXNYp-gJx5"
      },
      "outputs": [],
      "source": [
        "train_folder = root_path+\"/train2014/\"\n",
        "val_folder = root_path+\"/val2014/\"\n",
        "test_folder = root_path+\"/test2014/\""
      ]
    },
    {
      "cell_type": "markdown",
      "metadata": {
        "id": "uJ0qK-Zou8HU"
      },
      "source": [
        "# Dataset"
      ]
    },
    {
      "cell_type": "code",
      "execution_count": 10,
      "metadata": {
        "id": "DfM79xix_wfw"
      },
      "outputs": [],
      "source": [
        "def loadImagesName(dir_path, num):\n",
        "    images_list = []\n",
        "    count = 1\n",
        "    for image_name in os.listdir(dir_path):\n",
        "      if (count>num):\n",
        "        break\n",
        "      filename = os.path.join(dir_path, image_name)\n",
        "      images_list.append(filename)\n",
        "      print(\"\\rImage num: {}\".format(count), end='')\n",
        "      count = count+1\n",
        "    \n",
        "    return images_list\n"
      ]
    },
    {
      "cell_type": "code",
      "execution_count": 43,
      "metadata": {
        "colab": {
          "base_uri": "https://localhost:8080/"
        },
        "id": "EZWOwGE4AOpM",
        "outputId": "76cb52ed-30dd-4d3e-f9b4-46753005ea6f"
      },
      "outputs": [
        {
          "output_type": "stream",
          "name": "stdout",
          "text": [
            "Image num: 5000"
          ]
        }
      ],
      "source": [
        "train_list = loadImagesName(train_folder, 5000)"
      ]
    },
    {
      "cell_type": "code",
      "execution_count": 44,
      "metadata": {
        "colab": {
          "base_uri": "https://localhost:8080/"
        },
        "id": "M5sAmirSDvoH",
        "outputId": "4d5062e2-116e-4da8-ab12-353b10cf6b4e"
      },
      "outputs": [
        {
          "output_type": "stream",
          "name": "stdout",
          "text": [
            "\rImage num: 1\rImage num: 2\rImage num: 3\rImage num: 4\rImage num: 5\rImage num: 6\rImage num: 7\rImage num: 8\rImage num: 9\rImage num: 10\rImage num: 11\rImage num: 12\rImage num: 13\rImage num: 14\rImage num: 15\rImage num: 16\rImage num: 17\rImage num: 18\rImage num: 19\rImage num: 20\rImage num: 21\rImage num: 22\rImage num: 23\rImage num: 24\rImage num: 25\rImage num: 26\rImage num: 27\rImage num: 28\rImage num: 29\rImage num: 30\rImage num: 31\rImage num: 32\rImage num: 33\rImage num: 34\rImage num: 35\rImage num: 36\rImage num: 37\rImage num: 38\rImage num: 39\rImage num: 40\rImage num: 41\rImage num: 42\rImage num: 43\rImage num: 44\rImage num: 45\rImage num: 46\rImage num: 47\rImage num: 48\rImage num: 49\rImage num: 50\rImage num: 51\rImage num: 52\rImage num: 53\rImage num: 54\rImage num: 55\rImage num: 56\rImage num: 57\rImage num: 58\rImage num: 59\rImage num: 60\rImage num: 61\rImage num: 62\rImage num: 63\rImage num: 64\rImage num: 65\rImage num: 66\rImage num: 67\rImage num: 68\rImage num: 69\rImage num: 70\rImage num: 71\rImage num: 72\rImage num: 73\rImage num: 74\rImage num: 75\rImage num: 76\rImage num: 77\rImage num: 78\rImage num: 79\rImage num: 80\rImage num: 81\rImage num: 82\rImage num: 83\rImage num: 84\rImage num: 85\rImage num: 86\rImage num: 87\rImage num: 88\rImage num: 89\rImage num: 90\rImage num: 91\rImage num: 92\rImage num: 93\rImage num: 94\rImage num: 95\rImage num: 96\rImage num: 97\rImage num: 98\rImage num: 99\rImage num: 100\rImage num: 101\rImage num: 102\rImage num: 103\rImage num: 104\rImage num: 105\rImage num: 106\rImage num: 107\rImage num: 108\rImage num: 109\rImage num: 110\rImage num: 111\rImage num: 112\rImage num: 113\rImage num: 114\rImage num: 115\rImage num: 116\rImage num: 117\rImage num: 118\rImage num: 119\rImage num: 120\rImage num: 121\rImage num: 122\rImage num: 123\rImage num: 124\rImage num: 125\rImage num: 126\rImage num: 127\rImage num: 128\rImage num: 129\rImage num: 130\rImage num: 131\rImage num: 132\rImage num: 133\rImage num: 134\rImage num: 135\rImage num: 136\rImage num: 137\rImage num: 138\rImage num: 139\rImage num: 140\rImage num: 141\rImage num: 142\rImage num: 143\rImage num: 144\rImage num: 145\rImage num: 146\rImage num: 147\rImage num: 148\rImage num: 149\rImage num: 150\rImage num: 151\rImage num: 152\rImage num: 153\rImage num: 154\rImage num: 155\rImage num: 156\rImage num: 157\rImage num: 158\rImage num: 159\rImage num: 160\rImage num: 161\rImage num: 162\rImage num: 163\rImage num: 164\rImage num: 165\rImage num: 166\rImage num: 167\rImage num: 168\rImage num: 169\rImage num: 170\rImage num: 171\rImage num: 172\rImage num: 173\rImage num: 174\rImage num: 175\rImage num: 176\rImage num: 177\rImage num: 178\rImage num: 179\rImage num: 180\rImage num: 181\rImage num: 182\rImage num: 183\rImage num: 184\rImage num: 185\rImage num: 186\rImage num: 187\rImage num: 188\rImage num: 189\rImage num: 190\rImage num: 191\rImage num: 192\rImage num: 193\rImage num: 194\rImage num: 195\rImage num: 196\rImage num: 197\rImage num: 198\rImage num: 199\rImage num: 200\rImage num: 201\rImage num: 202\rImage num: 203\rImage num: 204\rImage num: 205\rImage num: 206\rImage num: 207\rImage num: 208\rImage num: 209\rImage num: 210\rImage num: 211\rImage num: 212\rImage num: 213\rImage num: 214\rImage num: 215\rImage num: 216\rImage num: 217\rImage num: 218\rImage num: 219\rImage num: 220\rImage num: 221\rImage num: 222\rImage num: 223\rImage num: 224\rImage num: 225\rImage num: 226\rImage num: 227\rImage num: 228\rImage num: 229\rImage num: 230\rImage num: 231\rImage num: 232\rImage num: 233\rImage num: 234\rImage num: 235\rImage num: 236\rImage num: 237\rImage num: 238\rImage num: 239\rImage num: 240\rImage num: 241\rImage num: 242\rImage num: 243\rImage num: 244\rImage num: 245\rImage num: 246\rImage num: 247\rImage num: 248\rImage num: 249\rImage num: 250\rImage num: 251\rImage num: 252\rImage num: 253\rImage num: 254\rImage num: 255\rImage num: 256\rImage num: 257\rImage num: 258\rImage num: 259\rImage num: 260\rImage num: 261\rImage num: 262\rImage num: 263\rImage num: 264\rImage num: 265\rImage num: 266\rImage num: 267\rImage num: 268\rImage num: 269\rImage num: 270\rImage num: 271\rImage num: 272\rImage num: 273\rImage num: 274\rImage num: 275\rImage num: 276\rImage num: 277\rImage num: 278\rImage num: 279\rImage num: 280\rImage num: 281\rImage num: 282\rImage num: 283\rImage num: 284\rImage num: 285\rImage num: 286\rImage num: 287\rImage num: 288\rImage num: 289\rImage num: 290\rImage num: 291\rImage num: 292\rImage num: 293\rImage num: 294\rImage num: 295\rImage num: 296\rImage num: 297\rImage num: 298\rImage num: 299\rImage num: 300\rImage num: 301\rImage num: 302\rImage num: 303\rImage num: 304\rImage num: 305\rImage num: 306\rImage num: 307\rImage num: 308\rImage num: 309\rImage num: 310\rImage num: 311\rImage num: 312\rImage num: 313\rImage num: 314\rImage num: 315\rImage num: 316\rImage num: 317\rImage num: 318\rImage num: 319\rImage num: 320\rImage num: 321\rImage num: 322\rImage num: 323\rImage num: 324\rImage num: 325\rImage num: 326\rImage num: 327\rImage num: 328\rImage num: 329\rImage num: 330\rImage num: 331\rImage num: 332\rImage num: 333\rImage num: 334\rImage num: 335\rImage num: 336\rImage num: 337\rImage num: 338\rImage num: 339\rImage num: 340\rImage num: 341\rImage num: 342\rImage num: 343\rImage num: 344\rImage num: 345\rImage num: 346\rImage num: 347\rImage num: 348\rImage num: 349\rImage num: 350\rImage num: 351\rImage num: 352\rImage num: 353\rImage num: 354\rImage num: 355\rImage num: 356\rImage num: 357\rImage num: 358\rImage num: 359\rImage num: 360\rImage num: 361\rImage num: 362\rImage num: 363\rImage num: 364\rImage num: 365\rImage num: 366\rImage num: 367\rImage num: 368\rImage num: 369\rImage num: 370\rImage num: 371\rImage num: 372\rImage num: 373\rImage num: 374\rImage num: 375\rImage num: 376\rImage num: 377\rImage num: 378\rImage num: 379\rImage num: 380\rImage num: 381\rImage num: 382\rImage num: 383\rImage num: 384\rImage num: 385\rImage num: 386\rImage num: 387\rImage num: 388\rImage num: 389\rImage num: 390\rImage num: 391\rImage num: 392\rImage num: 393\rImage num: 394\rImage num: 395\rImage num: 396\rImage num: 397\rImage num: 398\rImage num: 399\rImage num: 400\rImage num: 401\rImage num: 402\rImage num: 403\rImage num: 404\rImage num: 405\rImage num: 406\rImage num: 407\rImage num: 408\rImage num: 409\rImage num: 410\rImage num: 411\rImage num: 412\rImage num: 413\rImage num: 414\rImage num: 415\rImage num: 416\rImage num: 417\rImage num: 418\rImage num: 419\rImage num: 420\rImage num: 421\rImage num: 422\rImage num: 423\rImage num: 424\rImage num: 425\rImage num: 426\rImage num: 427\rImage num: 428\rImage num: 429\rImage num: 430\rImage num: 431\rImage num: 432\rImage num: 433\rImage num: 434\rImage num: 435\rImage num: 436\rImage num: 437\rImage num: 438\rImage num: 439\rImage num: 440\rImage num: 441\rImage num: 442\rImage num: 443\rImage num: 444\rImage num: 445\rImage num: 446\rImage num: 447\rImage num: 448\rImage num: 449\rImage num: 450\rImage num: 451\rImage num: 452\rImage num: 453\rImage num: 454\rImage num: 455\rImage num: 456\rImage num: 457\rImage num: 458\rImage num: 459\rImage num: 460\rImage num: 461\rImage num: 462\rImage num: 463\rImage num: 464\rImage num: 465\rImage num: 466\rImage num: 467\rImage num: 468\rImage num: 469\rImage num: 470\rImage num: 471\rImage num: 472\rImage num: 473\rImage num: 474\rImage num: 475\rImage num: 476\rImage num: 477\rImage num: 478\rImage num: 479\rImage num: 480\rImage num: 481\rImage num: 482\rImage num: 483\rImage num: 484\rImage num: 485\rImage num: 486\rImage num: 487\rImage num: 488\rImage num: 489\rImage num: 490\rImage num: 491\rImage num: 492\rImage num: 493\rImage num: 494\rImage num: 495\rImage num: 496\rImage num: 497\rImage num: 498\rImage num: 499\rImage num: 500\rImage num: 501\rImage num: 502\rImage num: 503\rImage num: 504\rImage num: 505\rImage num: 506\rImage num: 507\rImage num: 508\rImage num: 509\rImage num: 510\rImage num: 511\rImage num: 512\rImage num: 513\rImage num: 514\rImage num: 515\rImage num: 516\rImage num: 517\rImage num: 518\rImage num: 519\rImage num: 520\rImage num: 521\rImage num: 522\rImage num: 523\rImage num: 524\rImage num: 525\rImage num: 526\rImage num: 527\rImage num: 528\rImage num: 529\rImage num: 530\rImage num: 531\rImage num: 532\rImage num: 533\rImage num: 534\rImage num: 535\rImage num: 536\rImage num: 537\rImage num: 538\rImage num: 539\rImage num: 540\rImage num: 541\rImage num: 542\rImage num: 543\rImage num: 544\rImage num: 545\rImage num: 546\rImage num: 547\rImage num: 548\rImage num: 549\rImage num: 550\rImage num: 551\rImage num: 552\rImage num: 553\rImage num: 554\rImage num: 555\rImage num: 556\rImage num: 557\rImage num: 558\rImage num: 559\rImage num: 560\rImage num: 561\rImage num: 562\rImage num: 563\rImage num: 564\rImage num: 565\rImage num: 566\rImage num: 567\rImage num: 568\rImage num: 569\rImage num: 570\rImage num: 571\rImage num: 572\rImage num: 573\rImage num: 574\rImage num: 575\rImage num: 576\rImage num: 577\rImage num: 578\rImage num: 579\rImage num: 580\rImage num: 581\rImage num: 582\rImage num: 583\rImage num: 584\rImage num: 585\rImage num: 586\rImage num: 587\rImage num: 588\rImage num: 589\rImage num: 590\rImage num: 591\rImage num: 592\rImage num: 593\rImage num: 594\rImage num: 595\rImage num: 596\rImage num: 597\rImage num: 598\rImage num: 599\rImage num: 600\rImage num: 601\rImage num: 602\rImage num: 603\rImage num: 604\rImage num: 605\rImage num: 606\rImage num: 607\rImage num: 608\rImage num: 609\rImage num: 610\rImage num: 611\rImage num: 612\rImage num: 613\rImage num: 614\rImage num: 615\rImage num: 616\rImage num: 617\rImage num: 618\rImage num: 619\rImage num: 620\rImage num: 621\rImage num: 622\rImage num: 623\rImage num: 624\rImage num: 625\rImage num: 626\rImage num: 627\rImage num: 628\rImage num: 629\rImage num: 630\rImage num: 631\rImage num: 632\rImage num: 633\rImage num: 634\rImage num: 635\rImage num: 636\rImage num: 637\rImage num: 638\rImage num: 639\rImage num: 640\rImage num: 641\rImage num: 642\rImage num: 643\rImage num: 644\rImage num: 645\rImage num: 646\rImage num: 647\rImage num: 648\rImage num: 649\rImage num: 650\rImage num: 651\rImage num: 652\rImage num: 653\rImage num: 654\rImage num: 655\rImage num: 656\rImage num: 657\rImage num: 658\rImage num: 659\rImage num: 660\rImage num: 661\rImage num: 662\rImage num: 663\rImage num: 664\rImage num: 665\rImage num: 666\rImage num: 667\rImage num: 668\rImage num: 669\rImage num: 670\rImage num: 671\rImage num: 672\rImage num: 673\rImage num: 674\rImage num: 675\rImage num: 676\rImage num: 677\rImage num: 678\rImage num: 679\rImage num: 680\rImage num: 681\rImage num: 682\rImage num: 683\rImage num: 684\rImage num: 685\rImage num: 686\rImage num: 687\rImage num: 688\rImage num: 689\rImage num: 690\rImage num: 691\rImage num: 692\rImage num: 693\rImage num: 694\rImage num: 695\rImage num: 696\rImage num: 697\rImage num: 698\rImage num: 699\rImage num: 700\rImage num: 701\rImage num: 702\rImage num: 703\rImage num: 704\rImage num: 705\rImage num: 706\rImage num: 707\rImage num: 708\rImage num: 709\rImage num: 710\rImage num: 711\rImage num: 712\rImage num: 713\rImage num: 714\rImage num: 715\rImage num: 716\rImage num: 717\rImage num: 718\rImage num: 719\rImage num: 720\rImage num: 721\rImage num: 722\rImage num: 723\rImage num: 724\rImage num: 725\rImage num: 726\rImage num: 727\rImage num: 728\rImage num: 729\rImage num: 730\rImage num: 731\rImage num: 732\rImage num: 733\rImage num: 734\rImage num: 735\rImage num: 736\rImage num: 737\rImage num: 738\rImage num: 739\rImage num: 740\rImage num: 741\rImage num: 742\rImage num: 743\rImage num: 744\rImage num: 745\rImage num: 746\rImage num: 747\rImage num: 748\rImage num: 749\rImage num: 750\rImage num: 751\rImage num: 752\rImage num: 753\rImage num: 754\rImage num: 755\rImage num: 756\rImage num: 757\rImage num: 758\rImage num: 759\rImage num: 760\rImage num: 761\rImage num: 762\rImage num: 763\rImage num: 764\rImage num: 765\rImage num: 766\rImage num: 767\rImage num: 768\rImage num: 769\rImage num: 770\rImage num: 771\rImage num: 772\rImage num: 773\rImage num: 774\rImage num: 775\rImage num: 776\rImage num: 777\rImage num: 778\rImage num: 779\rImage num: 780\rImage num: 781\rImage num: 782\rImage num: 783\rImage num: 784\rImage num: 785\rImage num: 786\rImage num: 787\rImage num: 788\rImage num: 789\rImage num: 790\rImage num: 791\rImage num: 792\rImage num: 793\rImage num: 794\rImage num: 795\rImage num: 796\rImage num: 797\rImage num: 798\rImage num: 799\rImage num: 800\rImage num: 801\rImage num: 802\rImage num: 803\rImage num: 804\rImage num: 805\rImage num: 806\rImage num: 807\rImage num: 808\rImage num: 809\rImage num: 810\rImage num: 811\rImage num: 812\rImage num: 813\rImage num: 814\rImage num: 815\rImage num: 816\rImage num: 817\rImage num: 818\rImage num: 819\rImage num: 820\rImage num: 821\rImage num: 822\rImage num: 823\rImage num: 824\rImage num: 825\rImage num: 826\rImage num: 827\rImage num: 828\rImage num: 829\rImage num: 830\rImage num: 831\rImage num: 832\rImage num: 833\rImage num: 834\rImage num: 835\rImage num: 836\rImage num: 837\rImage num: 838\rImage num: 839\rImage num: 840\rImage num: 841\rImage num: 842\rImage num: 843\rImage num: 844\rImage num: 845\rImage num: 846\rImage num: 847\rImage num: 848\rImage num: 849\rImage num: 850\rImage num: 851\rImage num: 852\rImage num: 853\rImage num: 854\rImage num: 855\rImage num: 856\rImage num: 857\rImage num: 858\rImage num: 859\rImage num: 860\rImage num: 861\rImage num: 862\rImage num: 863\rImage num: 864\rImage num: 865\rImage num: 866\rImage num: 867\rImage num: 868\rImage num: 869\rImage num: 870\rImage num: 871\rImage num: 872\rImage num: 873\rImage num: 874\rImage num: 875\rImage num: 876\rImage num: 877\rImage num: 878\rImage num: 879\rImage num: 880\rImage num: 881\rImage num: 882\rImage num: 883\rImage num: 884\rImage num: 885\rImage num: 886\rImage num: 887\rImage num: 888\rImage num: 889\rImage num: 890\rImage num: 891\rImage num: 892\rImage num: 893\rImage num: 894\rImage num: 895\rImage num: 896\rImage num: 897\rImage num: 898\rImage num: 899\rImage num: 900\rImage num: 901\rImage num: 902\rImage num: 903\rImage num: 904\rImage num: 905\rImage num: 906\rImage num: 907\rImage num: 908\rImage num: 909\rImage num: 910\rImage num: 911\rImage num: 912\rImage num: 913\rImage num: 914\rImage num: 915\rImage num: 916\rImage num: 917\rImage num: 918\rImage num: 919\rImage num: 920\rImage num: 921\rImage num: 922\rImage num: 923\rImage num: 924\rImage num: 925\rImage num: 926\rImage num: 927\rImage num: 928\rImage num: 929\rImage num: 930\rImage num: 931\rImage num: 932\rImage num: 933\rImage num: 934\rImage num: 935\rImage num: 936\rImage num: 937\rImage num: 938\rImage num: 939\rImage num: 940\rImage num: 941\rImage num: 942\rImage num: 943\rImage num: 944\rImage num: 945\rImage num: 946\rImage num: 947\rImage num: 948\rImage num: 949\rImage num: 950\rImage num: 951\rImage num: 952\rImage num: 953\rImage num: 954\rImage num: 955\rImage num: 956\rImage num: 957\rImage num: 958\rImage num: 959\rImage num: 960\rImage num: 961\rImage num: 962\rImage num: 963\rImage num: 964\rImage num: 965\rImage num: 966\rImage num: 967\rImage num: 968\rImage num: 969\rImage num: 970\rImage num: 971\rImage num: 972\rImage num: 973\rImage num: 974\rImage num: 975\rImage num: 976\rImage num: 977\rImage num: 978\rImage num: 979\rImage num: 980\rImage num: 981\rImage num: 982\rImage num: 983\rImage num: 984\rImage num: 985\rImage num: 986\rImage num: 987\rImage num: 988\rImage num: 989\rImage num: 990\rImage num: 991\rImage num: 992\rImage num: 993\rImage num: 994\rImage num: 995\rImage num: 996\rImage num: 997\rImage num: 998\rImage num: 999\rImage num: 1000\rImage num: 1001\rImage num: 1002\rImage num: 1003\rImage num: 1004\rImage num: 1005\rImage num: 1006\rImage num: 1007\rImage num: 1008\rImage num: 1009\rImage num: 1010\rImage num: 1011\rImage num: 1012\rImage num: 1013\rImage num: 1014\rImage num: 1015\rImage num: 1016\rImage num: 1017\rImage num: 1018\rImage num: 1019\rImage num: 1020\rImage num: 1021\rImage num: 1022\rImage num: 1023\rImage num: 1024\rImage num: 1025\rImage num: 1026\rImage num: 1027\rImage num: 1028\rImage num: 1029\rImage num: 1030\rImage num: 1031\rImage num: 1032\rImage num: 1033\rImage num: 1034\rImage num: 1035\rImage num: 1036\rImage num: 1037\rImage num: 1038\rImage num: 1039\rImage num: 1040\rImage num: 1041\rImage num: 1042\rImage num: 1043\rImage num: 1044\rImage num: 1045\rImage num: 1046\rImage num: 1047\rImage num: 1048\rImage num: 1049\rImage num: 1050\rImage num: 1051\rImage num: 1052\rImage num: 1053\rImage num: 1054\rImage num: 1055\rImage num: 1056\rImage num: 1057\rImage num: 1058\rImage num: 1059\rImage num: 1060\rImage num: 1061\rImage num: 1062\rImage num: 1063\rImage num: 1064\rImage num: 1065\rImage num: 1066\rImage num: 1067\rImage num: 1068\rImage num: 1069\rImage num: 1070\rImage num: 1071\rImage num: 1072\rImage num: 1073\rImage num: 1074\rImage num: 1075\rImage num: 1076\rImage num: 1077\rImage num: 1078\rImage num: 1079\rImage num: 1080\rImage num: 1081\rImage num: 1082\rImage num: 1083\rImage num: 1084\rImage num: 1085\rImage num: 1086\rImage num: 1087\rImage num: 1088\rImage num: 1089\rImage num: 1090\rImage num: 1091\rImage num: 1092\rImage num: 1093\rImage num: 1094\rImage num: 1095\rImage num: 1096\rImage num: 1097\rImage num: 1098\rImage num: 1099\rImage num: 1100\rImage num: 1101\rImage num: 1102\rImage num: 1103\rImage num: 1104\rImage num: 1105\rImage num: 1106\rImage num: 1107\rImage num: 1108\rImage num: 1109\rImage num: 1110\rImage num: 1111\rImage num: 1112\rImage num: 1113\rImage num: 1114\rImage num: 1115\rImage num: 1116\rImage num: 1117\rImage num: 1118\rImage num: 1119\rImage num: 1120\rImage num: 1121\rImage num: 1122\rImage num: 1123\rImage num: 1124\rImage num: 1125\rImage num: 1126\rImage num: 1127\rImage num: 1128\rImage num: 1129\rImage num: 1130\rImage num: 1131\rImage num: 1132\rImage num: 1133\rImage num: 1134\rImage num: 1135\rImage num: 1136\rImage num: 1137\rImage num: 1138\rImage num: 1139\rImage num: 1140\rImage num: 1141\rImage num: 1142\rImage num: 1143\rImage num: 1144\rImage num: 1145\rImage num: 1146\rImage num: 1147\rImage num: 1148\rImage num: 1149\rImage num: 1150\rImage num: 1151\rImage num: 1152\rImage num: 1153\rImage num: 1154\rImage num: 1155\rImage num: 1156\rImage num: 1157\rImage num: 1158\rImage num: 1159\rImage num: 1160\rImage num: 1161\rImage num: 1162\rImage num: 1163\rImage num: 1164\rImage num: 1165\rImage num: 1166\rImage num: 1167\rImage num: 1168\rImage num: 1169\rImage num: 1170\rImage num: 1171\rImage num: 1172\rImage num: 1173\rImage num: 1174\rImage num: 1175\rImage num: 1176\rImage num: 1177\rImage num: 1178\rImage num: 1179\rImage num: 1180\rImage num: 1181\rImage num: 1182\rImage num: 1183\rImage num: 1184\rImage num: 1185\rImage num: 1186\rImage num: 1187\rImage num: 1188\rImage num: 1189\rImage num: 1190\rImage num: 1191\rImage num: 1192\rImage num: 1193\rImage num: 1194\rImage num: 1195\rImage num: 1196\rImage num: 1197\rImage num: 1198\rImage num: 1199\rImage num: 1200\rImage num: 1201\rImage num: 1202\rImage num: 1203\rImage num: 1204\rImage num: 1205\rImage num: 1206\rImage num: 1207\rImage num: 1208\rImage num: 1209\rImage num: 1210\rImage num: 1211\rImage num: 1212\rImage num: 1213\rImage num: 1214\rImage num: 1215\rImage num: 1216\rImage num: 1217\rImage num: 1218\rImage num: 1219\rImage num: 1220\rImage num: 1221\rImage num: 1222\rImage num: 1223\rImage num: 1224\rImage num: 1225\rImage num: 1226\rImage num: 1227\rImage num: 1228\rImage num: 1229\rImage num: 1230\rImage num: 1231\rImage num: 1232\rImage num: 1233\rImage num: 1234\rImage num: 1235\rImage num: 1236\rImage num: 1237\rImage num: 1238\rImage num: 1239\rImage num: 1240\rImage num: 1241\rImage num: 1242\rImage num: 1243\rImage num: 1244\rImage num: 1245\rImage num: 1246\rImage num: 1247\rImage num: 1248\rImage num: 1249\rImage num: 1250\rImage num: 1251\rImage num: 1252\rImage num: 1253\rImage num: 1254\rImage num: 1255\rImage num: 1256\rImage num: 1257\rImage num: 1258\rImage num: 1259\rImage num: 1260\rImage num: 1261\rImage num: 1262\rImage num: 1263\rImage num: 1264\rImage num: 1265\rImage num: 1266\rImage num: 1267\rImage num: 1268\rImage num: 1269\rImage num: 1270\rImage num: 1271\rImage num: 1272\rImage num: 1273\rImage num: 1274\rImage num: 1275\rImage num: 1276\rImage num: 1277\rImage num: 1278\rImage num: 1279\rImage num: 1280\rImage num: 1281\rImage num: 1282\rImage num: 1283\rImage num: 1284\rImage num: 1285\rImage num: 1286\rImage num: 1287\rImage num: 1288\rImage num: 1289\rImage num: 1290\rImage num: 1291\rImage num: 1292\rImage num: 1293\rImage num: 1294\rImage num: 1295\rImage num: 1296\rImage num: 1297\rImage num: 1298\rImage num: 1299\rImage num: 1300\rImage num: 1301\rImage num: 1302\rImage num: 1303\rImage num: 1304\rImage num: 1305\rImage num: 1306\rImage num: 1307\rImage num: 1308\rImage num: 1309\rImage num: 1310\rImage num: 1311\rImage num: 1312\rImage num: 1313\rImage num: 1314\rImage num: 1315\rImage num: 1316\rImage num: 1317\rImage num: 1318\rImage num: 1319\rImage num: 1320\rImage num: 1321\rImage num: 1322\rImage num: 1323\rImage num: 1324\rImage num: 1325\rImage num: 1326\rImage num: 1327\rImage num: 1328\rImage num: 1329\rImage num: 1330\rImage num: 1331\rImage num: 1332\rImage num: 1333\rImage num: 1334\rImage num: 1335\rImage num: 1336\rImage num: 1337\rImage num: 1338\rImage num: 1339\rImage num: 1340\rImage num: 1341\rImage num: 1342\rImage num: 1343\rImage num: 1344\rImage num: 1345\rImage num: 1346\rImage num: 1347\rImage num: 1348\rImage num: 1349\rImage num: 1350\rImage num: 1351\rImage num: 1352\rImage num: 1353\rImage num: 1354\rImage num: 1355\rImage num: 1356\rImage num: 1357\rImage num: 1358\rImage num: 1359\rImage num: 1360\rImage num: 1361\rImage num: 1362\rImage num: 1363\rImage num: 1364\rImage num: 1365\rImage num: 1366\rImage num: 1367\rImage num: 1368\rImage num: 1369\rImage num: 1370\rImage num: 1371\rImage num: 1372\rImage num: 1373\rImage num: 1374\rImage num: 1375\rImage num: 1376\rImage num: 1377\rImage num: 1378\rImage num: 1379\rImage num: 1380\rImage num: 1381\rImage num: 1382\rImage num: 1383\rImage num: 1384\rImage num: 1385\rImage num: 1386\rImage num: 1387\rImage num: 1388\rImage num: 1389\rImage num: 1390\rImage num: 1391\rImage num: 1392\rImage num: 1393\rImage num: 1394\rImage num: 1395\rImage num: 1396\rImage num: 1397\rImage num: 1398\rImage num: 1399\rImage num: 1400\rImage num: 1401\rImage num: 1402\rImage num: 1403\rImage num: 1404\rImage num: 1405\rImage num: 1406\rImage num: 1407\rImage num: 1408\rImage num: 1409\rImage num: 1410\rImage num: 1411\rImage num: 1412\rImage num: 1413\rImage num: 1414\rImage num: 1415\rImage num: 1416\rImage num: 1417\rImage num: 1418\rImage num: 1419\rImage num: 1420\rImage num: 1421\rImage num: 1422\rImage num: 1423\rImage num: 1424\rImage num: 1425\rImage num: 1426\rImage num: 1427\rImage num: 1428\rImage num: 1429\rImage num: 1430\rImage num: 1431\rImage num: 1432\rImage num: 1433\rImage num: 1434\rImage num: 1435\rImage num: 1436\rImage num: 1437\rImage num: 1438\rImage num: 1439\rImage num: 1440\rImage num: 1441\rImage num: 1442\rImage num: 1443\rImage num: 1444\rImage num: 1445\rImage num: 1446\rImage num: 1447\rImage num: 1448\rImage num: 1449\rImage num: 1450\rImage num: 1451\rImage num: 1452\rImage num: 1453\rImage num: 1454\rImage num: 1455\rImage num: 1456\rImage num: 1457\rImage num: 1458\rImage num: 1459\rImage num: 1460\rImage num: 1461\rImage num: 1462\rImage num: 1463\rImage num: 1464\rImage num: 1465\rImage num: 1466\rImage num: 1467\rImage num: 1468\rImage num: 1469\rImage num: 1470\rImage num: 1471\rImage num: 1472\rImage num: 1473\rImage num: 1474\rImage num: 1475\rImage num: 1476\rImage num: 1477\rImage num: 1478\rImage num: 1479\rImage num: 1480\rImage num: 1481\rImage num: 1482\rImage num: 1483\rImage num: 1484\rImage num: 1485\rImage num: 1486\rImage num: 1487\rImage num: 1488\rImage num: 1489\rImage num: 1490\rImage num: 1491\rImage num: 1492\rImage num: 1493\rImage num: 1494\rImage num: 1495\rImage num: 1496\rImage num: 1497\rImage num: 1498\rImage num: 1499\rImage num: 1500\rImage num: 1501\rImage num: 1502\rImage num: 1503\rImage num: 1504\rImage num: 1505\rImage num: 1506\rImage num: 1507\rImage num: 1508\rImage num: 1509\rImage num: 1510\rImage num: 1511\rImage num: 1512\rImage num: 1513\rImage num: 1514\rImage num: 1515\rImage num: 1516\rImage num: 1517\rImage num: 1518\rImage num: 1519\rImage num: 1520\rImage num: 1521\rImage num: 1522\rImage num: 1523\rImage num: 1524\rImage num: 1525\rImage num: 1526\rImage num: 1527\rImage num: 1528\rImage num: 1529\rImage num: 1530\rImage num: 1531\rImage num: 1532\rImage num: 1533\rImage num: 1534\rImage num: 1535\rImage num: 1536\rImage num: 1537\rImage num: 1538\rImage num: 1539\rImage num: 1540\rImage num: 1541\rImage num: 1542\rImage num: 1543\rImage num: 1544\rImage num: 1545\rImage num: 1546\rImage num: 1547\rImage num: 1548\rImage num: 1549\rImage num: 1550\rImage num: 1551\rImage num: 1552\rImage num: 1553\rImage num: 1554\rImage num: 1555\rImage num: 1556\rImage num: 1557\rImage num: 1558\rImage num: 1559\rImage num: 1560\rImage num: 1561\rImage num: 1562\rImage num: 1563\rImage num: 1564\rImage num: 1565\rImage num: 1566\rImage num: 1567\rImage num: 1568\rImage num: 1569\rImage num: 1570\rImage num: 1571\rImage num: 1572\rImage num: 1573\rImage num: 1574\rImage num: 1575\rImage num: 1576\rImage num: 1577\rImage num: 1578\rImage num: 1579\rImage num: 1580\rImage num: 1581\rImage num: 1582\rImage num: 1583\rImage num: 1584\rImage num: 1585\rImage num: 1586\rImage num: 1587\rImage num: 1588\rImage num: 1589\rImage num: 1590\rImage num: 1591\rImage num: 1592\rImage num: 1593\rImage num: 1594\rImage num: 1595\rImage num: 1596\rImage num: 1597\rImage num: 1598\rImage num: 1599\rImage num: 1600\rImage num: 1601\rImage num: 1602\rImage num: 1603\rImage num: 1604\rImage num: 1605\rImage num: 1606\rImage num: 1607\rImage num: 1608\rImage num: 1609\rImage num: 1610\rImage num: 1611\rImage num: 1612\rImage num: 1613\rImage num: 1614\rImage num: 1615\rImage num: 1616\rImage num: 1617\rImage num: 1618\rImage num: 1619\rImage num: 1620\rImage num: 1621\rImage num: 1622\rImage num: 1623\rImage num: 1624\rImage num: 1625\rImage num: 1626\rImage num: 1627\rImage num: 1628\rImage num: 1629\rImage num: 1630\rImage num: 1631\rImage num: 1632\rImage num: 1633\rImage num: 1634\rImage num: 1635\rImage num: 1636\rImage num: 1637\rImage num: 1638\rImage num: 1639\rImage num: 1640\rImage num: 1641\rImage num: 1642\rImage num: 1643\rImage num: 1644\rImage num: 1645\rImage num: 1646\rImage num: 1647\rImage num: 1648\rImage num: 1649\rImage num: 1650\rImage num: 1651\rImage num: 1652\rImage num: 1653\rImage num: 1654\rImage num: 1655\rImage num: 1656\rImage num: 1657\rImage num: 1658\rImage num: 1659\rImage num: 1660\rImage num: 1661\rImage num: 1662\rImage num: 1663\rImage num: 1664\rImage num: 1665\rImage num: 1666\rImage num: 1667\rImage num: 1668\rImage num: 1669\rImage num: 1670\rImage num: 1671\rImage num: 1672\rImage num: 1673\rImage num: 1674\rImage num: 1675\rImage num: 1676\rImage num: 1677\rImage num: 1678\rImage num: 1679\rImage num: 1680\rImage num: 1681\rImage num: 1682\rImage num: 1683\rImage num: 1684\rImage num: 1685\rImage num: 1686\rImage num: 1687\rImage num: 1688\rImage num: 1689\rImage num: 1690\rImage num: 1691\rImage num: 1692\rImage num: 1693\rImage num: 1694\rImage num: 1695\rImage num: 1696\rImage num: 1697\rImage num: 1698\rImage num: 1699\rImage num: 1700\rImage num: 1701\rImage num: 1702\rImage num: 1703\rImage num: 1704\rImage num: 1705\rImage num: 1706\rImage num: 1707\rImage num: 1708\rImage num: 1709\rImage num: 1710\rImage num: 1711\rImage num: 1712\rImage num: 1713\rImage num: 1714\rImage num: 1715\rImage num: 1716\rImage num: 1717\rImage num: 1718\rImage num: 1719\rImage num: 1720\rImage num: 1721\rImage num: 1722\rImage num: 1723\rImage num: 1724\rImage num: 1725\rImage num: 1726\rImage num: 1727\rImage num: 1728\rImage num: 1729\rImage num: 1730\rImage num: 1731\rImage num: 1732\rImage num: 1733\rImage num: 1734\rImage num: 1735\rImage num: 1736\rImage num: 1737\rImage num: 1738\rImage num: 1739\rImage num: 1740\rImage num: 1741\rImage num: 1742\rImage num: 1743\rImage num: 1744\rImage num: 1745\rImage num: 1746\rImage num: 1747\rImage num: 1748\rImage num: 1749\rImage num: 1750\rImage num: 1751\rImage num: 1752\rImage num: 1753\rImage num: 1754\rImage num: 1755\rImage num: 1756\rImage num: 1757\rImage num: 1758\rImage num: 1759\rImage num: 1760\rImage num: 1761\rImage num: 1762\rImage num: 1763\rImage num: 1764\rImage num: 1765\rImage num: 1766\rImage num: 1767\rImage num: 1768\rImage num: 1769\rImage num: 1770\rImage num: 1771\rImage num: 1772\rImage num: 1773\rImage num: 1774\rImage num: 1775\rImage num: 1776\rImage num: 1777\rImage num: 1778\rImage num: 1779\rImage num: 1780\rImage num: 1781\rImage num: 1782\rImage num: 1783\rImage num: 1784\rImage num: 1785\rImage num: 1786\rImage num: 1787\rImage num: 1788\rImage num: 1789\rImage num: 1790\rImage num: 1791\rImage num: 1792\rImage num: 1793\rImage num: 1794\rImage num: 1795\rImage num: 1796\rImage num: 1797\rImage num: 1798\rImage num: 1799\rImage num: 1800\rImage num: 1801\rImage num: 1802\rImage num: 1803\rImage num: 1804\rImage num: 1805\rImage num: 1806\rImage num: 1807\rImage num: 1808\rImage num: 1809\rImage num: 1810\rImage num: 1811\rImage num: 1812\rImage num: 1813\rImage num: 1814\rImage num: 1815\rImage num: 1816\rImage num: 1817\rImage num: 1818\rImage num: 1819\rImage num: 1820\rImage num: 1821\rImage num: 1822\rImage num: 1823\rImage num: 1824\rImage num: 1825\rImage num: 1826\rImage num: 1827\rImage num: 1828\rImage num: 1829\rImage num: 1830\rImage num: 1831\rImage num: 1832\rImage num: 1833\rImage num: 1834\rImage num: 1835\rImage num: 1836\rImage num: 1837\rImage num: 1838\rImage num: 1839\rImage num: 1840\rImage num: 1841\rImage num: 1842\rImage num: 1843\rImage num: 1844\rImage num: 1845\rImage num: 1846\rImage num: 1847\rImage num: 1848\rImage num: 1849\rImage num: 1850\rImage num: 1851\rImage num: 1852\rImage num: 1853\rImage num: 1854\rImage num: 1855\rImage num: 1856\rImage num: 1857\rImage num: 1858\rImage num: 1859\rImage num: 1860\rImage num: 1861\rImage num: 1862\rImage num: 1863\rImage num: 1864\rImage num: 1865\rImage num: 1866\rImage num: 1867\rImage num: 1868\rImage num: 1869\rImage num: 1870\rImage num: 1871\rImage num: 1872\rImage num: 1873\rImage num: 1874\rImage num: 1875\rImage num: 1876\rImage num: 1877\rImage num: 1878\rImage num: 1879\rImage num: 1880\rImage num: 1881\rImage num: 1882\rImage num: 1883\rImage num: 1884\rImage num: 1885\rImage num: 1886\rImage num: 1887\rImage num: 1888\rImage num: 1889\rImage num: 1890\rImage num: 1891\rImage num: 1892\rImage num: 1893\rImage num: 1894\rImage num: 1895\rImage num: 1896\rImage num: 1897\rImage num: 1898\rImage num: 1899\rImage num: 1900\rImage num: 1901\rImage num: 1902\rImage num: 1903\rImage num: 1904\rImage num: 1905\rImage num: 1906\rImage num: 1907\rImage num: 1908\rImage num: 1909\rImage num: 1910\rImage num: 1911\rImage num: 1912\rImage num: 1913\rImage num: 1914\rImage num: 1915\rImage num: 1916\rImage num: 1917\rImage num: 1918\rImage num: 1919\rImage num: 1920\rImage num: 1921\rImage num: 1922\rImage num: 1923\rImage num: 1924\rImage num: 1925\rImage num: 1926\rImage num: 1927\rImage num: 1928\rImage num: 1929\rImage num: 1930\rImage num: 1931\rImage num: 1932\rImage num: 1933\rImage num: 1934\rImage num: 1935\rImage num: 1936\rImage num: 1937\rImage num: 1938\rImage num: 1939\rImage num: 1940\rImage num: 1941\rImage num: 1942\rImage num: 1943\rImage num: 1944\rImage num: 1945\rImage num: 1946\rImage num: 1947\rImage num: 1948\rImage num: 1949\rImage num: 1950\rImage num: 1951\rImage num: 1952\rImage num: 1953\rImage num: 1954\rImage num: 1955\rImage num: 1956\rImage num: 1957\rImage num: 1958\rImage num: 1959\rImage num: 1960\rImage num: 1961\rImage num: 1962\rImage num: 1963\rImage num: 1964\rImage num: 1965\rImage num: 1966\rImage num: 1967\rImage num: 1968\rImage num: 1969\rImage num: 1970\rImage num: 1971\rImage num: 1972\rImage num: 1973\rImage num: 1974\rImage num: 1975\rImage num: 1976\rImage num: 1977\rImage num: 1978\rImage num: 1979\rImage num: 1980\rImage num: 1981\rImage num: 1982\rImage num: 1983\rImage num: 1984\rImage num: 1985\rImage num: 1986\rImage num: 1987\rImage num: 1988\rImage num: 1989\rImage num: 1990\rImage num: 1991\rImage num: 1992\rImage num: 1993\rImage num: 1994\rImage num: 1995\rImage num: 1996\rImage num: 1997\rImage num: 1998\rImage num: 1999\rImage num: 2000\rImage num: 2001\rImage num: 2002\rImage num: 2003\rImage num: 2004\rImage num: 2005\rImage num: 2006\rImage num: 2007\rImage num: 2008\rImage num: 2009\rImage num: 2010\rImage num: 2011\rImage num: 2012\rImage num: 2013\rImage num: 2014\rImage num: 2015\rImage num: 2016\rImage num: 2017\rImage num: 2018\rImage num: 2019\rImage num: 2020\rImage num: 2021\rImage num: 2022\rImage num: 2023\rImage num: 2024\rImage num: 2025\rImage num: 2026\rImage num: 2027\rImage num: 2028\rImage num: 2029\rImage num: 2030\rImage num: 2031\rImage num: 2032\rImage num: 2033\rImage num: 2034\rImage num: 2035\rImage num: 2036\rImage num: 2037\rImage num: 2038\rImage num: 2039\rImage num: 2040\rImage num: 2041\rImage num: 2042\rImage num: 2043\rImage num: 2044\rImage num: 2045\rImage num: 2046\rImage num: 2047\rImage num: 2048\rImage num: 2049\rImage num: 2050\rImage num: 2051\rImage num: 2052\rImage num: 2053\rImage num: 2054\rImage num: 2055\rImage num: 2056\rImage num: 2057\rImage num: 2058\rImage num: 2059\rImage num: 2060\rImage num: 2061\rImage num: 2062\rImage num: 2063\rImage num: 2064\rImage num: 2065\rImage num: 2066\rImage num: 2067\rImage num: 2068\rImage num: 2069\rImage num: 2070\rImage num: 2071\rImage num: 2072\rImage num: 2073\rImage num: 2074\rImage num: 2075\rImage num: 2076\rImage num: 2077\rImage num: 2078\rImage num: 2079\rImage num: 2080\rImage num: 2081\rImage num: 2082\rImage num: 2083\rImage num: 2084\rImage num: 2085\rImage num: 2086\rImage num: 2087\rImage num: 2088\rImage num: 2089\rImage num: 2090\rImage num: 2091\rImage num: 2092\rImage num: 2093\rImage num: 2094\rImage num: 2095\rImage num: 2096\rImage num: 2097\rImage num: 2098\rImage num: 2099\rImage num: 2100\rImage num: 2101\rImage num: 2102\rImage num: 2103\rImage num: 2104\rImage num: 2105\rImage num: 2106\rImage num: 2107\rImage num: 2108\rImage num: 2109\rImage num: 2110\rImage num: 2111\rImage num: 2112\rImage num: 2113\rImage num: 2114\rImage num: 2115\rImage num: 2116\rImage num: 2117\rImage num: 2118\rImage num: 2119\rImage num: 2120\rImage num: 2121\rImage num: 2122\rImage num: 2123\rImage num: 2124\rImage num: 2125\rImage num: 2126\rImage num: 2127\rImage num: 2128\rImage num: 2129\rImage num: 2130\rImage num: 2131\rImage num: 2132\rImage num: 2133\rImage num: 2134\rImage num: 2135\rImage num: 2136\rImage num: 2137\rImage num: 2138\rImage num: 2139\rImage num: 2140\rImage num: 2141\rImage num: 2142\rImage num: 2143\rImage num: 2144\rImage num: 2145\rImage num: 2146\rImage num: 2147\rImage num: 2148\rImage num: 2149\rImage num: 2150\rImage num: 2151\rImage num: 2152\rImage num: 2153\rImage num: 2154\rImage num: 2155\rImage num: 2156\rImage num: 2157\rImage num: 2158\rImage num: 2159\rImage num: 2160\rImage num: 2161\rImage num: 2162\rImage num: 2163\rImage num: 2164\rImage num: 2165\rImage num: 2166\rImage num: 2167\rImage num: 2168\rImage num: 2169\rImage num: 2170\rImage num: 2171\rImage num: 2172\rImage num: 2173\rImage num: 2174\rImage num: 2175\rImage num: 2176\rImage num: 2177\rImage num: 2178\rImage num: 2179\rImage num: 2180\rImage num: 2181\rImage num: 2182\rImage num: 2183\rImage num: 2184\rImage num: 2185\rImage num: 2186\rImage num: 2187\rImage num: 2188\rImage num: 2189\rImage num: 2190\rImage num: 2191\rImage num: 2192\rImage num: 2193\rImage num: 2194\rImage num: 2195\rImage num: 2196\rImage num: 2197\rImage num: 2198\rImage num: 2199\rImage num: 2200\rImage num: 2201\rImage num: 2202\rImage num: 2203\rImage num: 2204\rImage num: 2205\rImage num: 2206\rImage num: 2207\rImage num: 2208\rImage num: 2209\rImage num: 2210\rImage num: 2211\rImage num: 2212\rImage num: 2213\rImage num: 2214\rImage num: 2215\rImage num: 2216\rImage num: 2217\rImage num: 2218\rImage num: 2219\rImage num: 2220\rImage num: 2221\rImage num: 2222\rImage num: 2223\rImage num: 2224\rImage num: 2225\rImage num: 2226\rImage num: 2227\rImage num: 2228\rImage num: 2229\rImage num: 2230\rImage num: 2231\rImage num: 2232\rImage num: 2233\rImage num: 2234\rImage num: 2235\rImage num: 2236\rImage num: 2237\rImage num: 2238\rImage num: 2239\rImage num: 2240\rImage num: 2241\rImage num: 2242\rImage num: 2243\rImage num: 2244\rImage num: 2245\rImage num: 2246\rImage num: 2247\rImage num: 2248\rImage num: 2249\rImage num: 2250\rImage num: 2251\rImage num: 2252\rImage num: 2253\rImage num: 2254\rImage num: 2255\rImage num: 2256\rImage num: 2257\rImage num: 2258\rImage num: 2259\rImage num: 2260\rImage num: 2261\rImage num: 2262\rImage num: 2263\rImage num: 2264\rImage num: 2265\rImage num: 2266\rImage num: 2267\rImage num: 2268\rImage num: 2269\rImage num: 2270\rImage num: 2271\rImage num: 2272\rImage num: 2273\rImage num: 2274\rImage num: 2275\rImage num: 2276\rImage num: 2277\rImage num: 2278\rImage num: 2279\rImage num: 2280\rImage num: 2281\rImage num: 2282\rImage num: 2283\rImage num: 2284\rImage num: 2285\rImage num: 2286\rImage num: 2287\rImage num: 2288\rImage num: 2289\rImage num: 2290\rImage num: 2291\rImage num: 2292\rImage num: 2293\rImage num: 2294\rImage num: 2295\rImage num: 2296\rImage num: 2297\rImage num: 2298\rImage num: 2299\rImage num: 2300\rImage num: 2301\rImage num: 2302\rImage num: 2303\rImage num: 2304\rImage num: 2305\rImage num: 2306\rImage num: 2307\rImage num: 2308\rImage num: 2309\rImage num: 2310\rImage num: 2311\rImage num: 2312\rImage num: 2313\rImage num: 2314\rImage num: 2315\rImage num: 2316\rImage num: 2317\rImage num: 2318\rImage num: 2319\rImage num: 2320\rImage num: 2321\rImage num: 2322\rImage num: 2323\rImage num: 2324\rImage num: 2325\rImage num: 2326\rImage num: 2327\rImage num: 2328\rImage num: 2329\rImage num: 2330\rImage num: 2331\rImage num: 2332\rImage num: 2333\rImage num: 2334\rImage num: 2335\rImage num: 2336\rImage num: 2337\rImage num: 2338\rImage num: 2339\rImage num: 2340\rImage num: 2341\rImage num: 2342\rImage num: 2343\rImage num: 2344\rImage num: 2345\rImage num: 2346\rImage num: 2347\rImage num: 2348\rImage num: 2349\rImage num: 2350\rImage num: 2351\rImage num: 2352\rImage num: 2353\rImage num: 2354\rImage num: 2355\rImage num: 2356\rImage num: 2357\rImage num: 2358\rImage num: 2359\rImage num: 2360\rImage num: 2361\rImage num: 2362\rImage num: 2363\rImage num: 2364\rImage num: 2365\rImage num: 2366\rImage num: 2367\rImage num: 2368\rImage num: 2369\rImage num: 2370\rImage num: 2371\rImage num: 2372\rImage num: 2373\rImage num: 2374\rImage num: 2375\rImage num: 2376\rImage num: 2377\rImage num: 2378\rImage num: 2379\rImage num: 2380\rImage num: 2381\rImage num: 2382\rImage num: 2383\rImage num: 2384\rImage num: 2385\rImage num: 2386\rImage num: 2387\rImage num: 2388\rImage num: 2389\rImage num: 2390\rImage num: 2391\rImage num: 2392\rImage num: 2393\rImage num: 2394\rImage num: 2395\rImage num: 2396\rImage num: 2397\rImage num: 2398\rImage num: 2399\rImage num: 2400\rImage num: 2401\rImage num: 2402\rImage num: 2403\rImage num: 2404\rImage num: 2405\rImage num: 2406\rImage num: 2407\rImage num: 2408\rImage num: 2409\rImage num: 2410\rImage num: 2411\rImage num: 2412\rImage num: 2413\rImage num: 2414\rImage num: 2415\rImage num: 2416\rImage num: 2417\rImage num: 2418\rImage num: 2419\rImage num: 2420\rImage num: 2421\rImage num: 2422\rImage num: 2423\rImage num: 2424\rImage num: 2425\rImage num: 2426\rImage num: 2427\rImage num: 2428\rImage num: 2429\rImage num: 2430\rImage num: 2431\rImage num: 2432\rImage num: 2433\rImage num: 2434\rImage num: 2435\rImage num: 2436\rImage num: 2437\rImage num: 2438\rImage num: 2439\rImage num: 2440\rImage num: 2441\rImage num: 2442\rImage num: 2443\rImage num: 2444\rImage num: 2445\rImage num: 2446\rImage num: 2447\rImage num: 2448\rImage num: 2449\rImage num: 2450\rImage num: 2451\rImage num: 2452\rImage num: 2453\rImage num: 2454\rImage num: 2455\rImage num: 2456\rImage num: 2457\rImage num: 2458\rImage num: 2459\rImage num: 2460\rImage num: 2461\rImage num: 2462\rImage num: 2463\rImage num: 2464\rImage num: 2465\rImage num: 2466\rImage num: 2467\rImage num: 2468\rImage num: 2469\rImage num: 2470\rImage num: 2471\rImage num: 2472\rImage num: 2473\rImage num: 2474\rImage num: 2475\rImage num: 2476\rImage num: 2477\rImage num: 2478\rImage num: 2479\rImage num: 2480\rImage num: 2481\rImage num: 2482\rImage num: 2483\rImage num: 2484\rImage num: 2485\rImage num: 2486\rImage num: 2487\rImage num: 2488\rImage num: 2489\rImage num: 2490\rImage num: 2491\rImage num: 2492\rImage num: 2493\rImage num: 2494\rImage num: 2495\rImage num: 2496\rImage num: 2497\rImage num: 2498\rImage num: 2499\rImage num: 2500"
          ]
        }
      ],
      "source": [
        "val_list = loadImagesName(val_folder, 2500)"
      ]
    },
    {
      "cell_type": "code",
      "execution_count": 45,
      "metadata": {
        "colab": {
          "base_uri": "https://localhost:8080/"
        },
        "id": "HWM8f4cQDwgf",
        "outputId": "9b650e71-f6ef-47bb-db51-7a6d5e1d508f"
      },
      "outputs": [
        {
          "output_type": "stream",
          "name": "stdout",
          "text": [
            "\rImage num: 1\rImage num: 2\rImage num: 3\rImage num: 4\rImage num: 5\rImage num: 6\rImage num: 7\rImage num: 8\rImage num: 9\rImage num: 10\rImage num: 11\rImage num: 12\rImage num: 13\rImage num: 14\rImage num: 15\rImage num: 16\rImage num: 17\rImage num: 18\rImage num: 19\rImage num: 20\rImage num: 21\rImage num: 22\rImage num: 23\rImage num: 24\rImage num: 25\rImage num: 26\rImage num: 27\rImage num: 28\rImage num: 29\rImage num: 30\rImage num: 31\rImage num: 32\rImage num: 33\rImage num: 34\rImage num: 35\rImage num: 36\rImage num: 37\rImage num: 38\rImage num: 39\rImage num: 40\rImage num: 41\rImage num: 42\rImage num: 43\rImage num: 44\rImage num: 45\rImage num: 46\rImage num: 47\rImage num: 48\rImage num: 49\rImage num: 50\rImage num: 51\rImage num: 52\rImage num: 53\rImage num: 54\rImage num: 55\rImage num: 56\rImage num: 57\rImage num: 58\rImage num: 59\rImage num: 60\rImage num: 61\rImage num: 62\rImage num: 63\rImage num: 64\rImage num: 65\rImage num: 66\rImage num: 67\rImage num: 68\rImage num: 69\rImage num: 70\rImage num: 71\rImage num: 72\rImage num: 73\rImage num: 74\rImage num: 75\rImage num: 76\rImage num: 77\rImage num: 78\rImage num: 79\rImage num: 80\rImage num: 81\rImage num: 82\rImage num: 83\rImage num: 84\rImage num: 85\rImage num: 86\rImage num: 87\rImage num: 88\rImage num: 89\rImage num: 90\rImage num: 91\rImage num: 92\rImage num: 93\rImage num: 94\rImage num: 95\rImage num: 96\rImage num: 97\rImage num: 98\rImage num: 99\rImage num: 100\rImage num: 101\rImage num: 102\rImage num: 103\rImage num: 104\rImage num: 105\rImage num: 106\rImage num: 107\rImage num: 108\rImage num: 109\rImage num: 110\rImage num: 111\rImage num: 112\rImage num: 113\rImage num: 114\rImage num: 115\rImage num: 116\rImage num: 117\rImage num: 118\rImage num: 119\rImage num: 120\rImage num: 121\rImage num: 122\rImage num: 123\rImage num: 124\rImage num: 125\rImage num: 126\rImage num: 127\rImage num: 128\rImage num: 129\rImage num: 130\rImage num: 131\rImage num: 132\rImage num: 133\rImage num: 134\rImage num: 135\rImage num: 136\rImage num: 137\rImage num: 138\rImage num: 139\rImage num: 140\rImage num: 141\rImage num: 142\rImage num: 143\rImage num: 144\rImage num: 145\rImage num: 146\rImage num: 147\rImage num: 148\rImage num: 149\rImage num: 150\rImage num: 151\rImage num: 152\rImage num: 153\rImage num: 154\rImage num: 155\rImage num: 156\rImage num: 157\rImage num: 158\rImage num: 159\rImage num: 160\rImage num: 161\rImage num: 162\rImage num: 163\rImage num: 164\rImage num: 165\rImage num: 166\rImage num: 167\rImage num: 168\rImage num: 169\rImage num: 170\rImage num: 171\rImage num: 172\rImage num: 173\rImage num: 174\rImage num: 175\rImage num: 176\rImage num: 177\rImage num: 178\rImage num: 179\rImage num: 180\rImage num: 181\rImage num: 182\rImage num: 183\rImage num: 184\rImage num: 185\rImage num: 186\rImage num: 187\rImage num: 188\rImage num: 189\rImage num: 190\rImage num: 191\rImage num: 192\rImage num: 193\rImage num: 194\rImage num: 195\rImage num: 196\rImage num: 197\rImage num: 198\rImage num: 199\rImage num: 200\rImage num: 201\rImage num: 202\rImage num: 203\rImage num: 204\rImage num: 205\rImage num: 206\rImage num: 207\rImage num: 208\rImage num: 209\rImage num: 210\rImage num: 211\rImage num: 212\rImage num: 213\rImage num: 214\rImage num: 215\rImage num: 216\rImage num: 217\rImage num: 218\rImage num: 219\rImage num: 220\rImage num: 221\rImage num: 222\rImage num: 223\rImage num: 224\rImage num: 225\rImage num: 226\rImage num: 227\rImage num: 228\rImage num: 229\rImage num: 230\rImage num: 231\rImage num: 232\rImage num: 233\rImage num: 234\rImage num: 235\rImage num: 236\rImage num: 237\rImage num: 238\rImage num: 239\rImage num: 240\rImage num: 241\rImage num: 242\rImage num: 243\rImage num: 244\rImage num: 245\rImage num: 246\rImage num: 247\rImage num: 248\rImage num: 249\rImage num: 250\rImage num: 251\rImage num: 252\rImage num: 253\rImage num: 254\rImage num: 255\rImage num: 256\rImage num: 257\rImage num: 258\rImage num: 259\rImage num: 260\rImage num: 261\rImage num: 262\rImage num: 263\rImage num: 264\rImage num: 265\rImage num: 266\rImage num: 267\rImage num: 268\rImage num: 269\rImage num: 270\rImage num: 271\rImage num: 272\rImage num: 273\rImage num: 274\rImage num: 275\rImage num: 276\rImage num: 277\rImage num: 278\rImage num: 279\rImage num: 280\rImage num: 281\rImage num: 282\rImage num: 283\rImage num: 284\rImage num: 285\rImage num: 286\rImage num: 287\rImage num: 288\rImage num: 289\rImage num: 290\rImage num: 291\rImage num: 292\rImage num: 293\rImage num: 294\rImage num: 295\rImage num: 296\rImage num: 297\rImage num: 298\rImage num: 299\rImage num: 300\rImage num: 301\rImage num: 302\rImage num: 303\rImage num: 304\rImage num: 305\rImage num: 306\rImage num: 307\rImage num: 308\rImage num: 309\rImage num: 310\rImage num: 311\rImage num: 312\rImage num: 313\rImage num: 314\rImage num: 315\rImage num: 316\rImage num: 317\rImage num: 318\rImage num: 319\rImage num: 320\rImage num: 321\rImage num: 322\rImage num: 323\rImage num: 324\rImage num: 325\rImage num: 326\rImage num: 327\rImage num: 328\rImage num: 329\rImage num: 330\rImage num: 331\rImage num: 332\rImage num: 333\rImage num: 334\rImage num: 335\rImage num: 336\rImage num: 337\rImage num: 338\rImage num: 339\rImage num: 340\rImage num: 341\rImage num: 342\rImage num: 343\rImage num: 344\rImage num: 345\rImage num: 346\rImage num: 347\rImage num: 348\rImage num: 349\rImage num: 350\rImage num: 351\rImage num: 352\rImage num: 353\rImage num: 354\rImage num: 355\rImage num: 356\rImage num: 357\rImage num: 358\rImage num: 359\rImage num: 360\rImage num: 361\rImage num: 362\rImage num: 363\rImage num: 364\rImage num: 365\rImage num: 366\rImage num: 367\rImage num: 368\rImage num: 369\rImage num: 370\rImage num: 371\rImage num: 372\rImage num: 373\rImage num: 374\rImage num: 375\rImage num: 376\rImage num: 377\rImage num: 378\rImage num: 379\rImage num: 380\rImage num: 381\rImage num: 382\rImage num: 383\rImage num: 384\rImage num: 385\rImage num: 386\rImage num: 387\rImage num: 388\rImage num: 389\rImage num: 390\rImage num: 391\rImage num: 392\rImage num: 393\rImage num: 394\rImage num: 395\rImage num: 396\rImage num: 397\rImage num: 398\rImage num: 399\rImage num: 400\rImage num: 401\rImage num: 402\rImage num: 403\rImage num: 404\rImage num: 405\rImage num: 406\rImage num: 407\rImage num: 408\rImage num: 409\rImage num: 410\rImage num: 411\rImage num: 412\rImage num: 413\rImage num: 414\rImage num: 415\rImage num: 416\rImage num: 417\rImage num: 418\rImage num: 419\rImage num: 420\rImage num: 421\rImage num: 422\rImage num: 423\rImage num: 424\rImage num: 425\rImage num: 426\rImage num: 427\rImage num: 428\rImage num: 429\rImage num: 430\rImage num: 431\rImage num: 432\rImage num: 433\rImage num: 434\rImage num: 435\rImage num: 436\rImage num: 437\rImage num: 438\rImage num: 439\rImage num: 440\rImage num: 441\rImage num: 442\rImage num: 443\rImage num: 444\rImage num: 445\rImage num: 446\rImage num: 447\rImage num: 448\rImage num: 449\rImage num: 450\rImage num: 451\rImage num: 452\rImage num: 453\rImage num: 454\rImage num: 455\rImage num: 456\rImage num: 457\rImage num: 458\rImage num: 459\rImage num: 460\rImage num: 461\rImage num: 462\rImage num: 463\rImage num: 464\rImage num: 465\rImage num: 466\rImage num: 467\rImage num: 468\rImage num: 469\rImage num: 470\rImage num: 471\rImage num: 472\rImage num: 473\rImage num: 474\rImage num: 475\rImage num: 476\rImage num: 477\rImage num: 478\rImage num: 479\rImage num: 480\rImage num: 481\rImage num: 482\rImage num: 483\rImage num: 484\rImage num: 485\rImage num: 486\rImage num: 487\rImage num: 488\rImage num: 489\rImage num: 490\rImage num: 491\rImage num: 492\rImage num: 493\rImage num: 494\rImage num: 495\rImage num: 496\rImage num: 497\rImage num: 498\rImage num: 499\rImage num: 500\rImage num: 501\rImage num: 502\rImage num: 503\rImage num: 504\rImage num: 505\rImage num: 506\rImage num: 507\rImage num: 508\rImage num: 509\rImage num: 510\rImage num: 511\rImage num: 512\rImage num: 513\rImage num: 514\rImage num: 515\rImage num: 516\rImage num: 517\rImage num: 518\rImage num: 519\rImage num: 520\rImage num: 521\rImage num: 522\rImage num: 523\rImage num: 524\rImage num: 525\rImage num: 526\rImage num: 527\rImage num: 528\rImage num: 529\rImage num: 530\rImage num: 531\rImage num: 532\rImage num: 533\rImage num: 534\rImage num: 535\rImage num: 536\rImage num: 537\rImage num: 538\rImage num: 539\rImage num: 540\rImage num: 541\rImage num: 542\rImage num: 543\rImage num: 544\rImage num: 545\rImage num: 546\rImage num: 547\rImage num: 548\rImage num: 549\rImage num: 550\rImage num: 551\rImage num: 552\rImage num: 553\rImage num: 554\rImage num: 555\rImage num: 556\rImage num: 557\rImage num: 558\rImage num: 559\rImage num: 560\rImage num: 561\rImage num: 562\rImage num: 563\rImage num: 564\rImage num: 565\rImage num: 566\rImage num: 567\rImage num: 568\rImage num: 569\rImage num: 570\rImage num: 571\rImage num: 572\rImage num: 573\rImage num: 574\rImage num: 575\rImage num: 576\rImage num: 577\rImage num: 578\rImage num: 579\rImage num: 580\rImage num: 581\rImage num: 582\rImage num: 583\rImage num: 584\rImage num: 585\rImage num: 586\rImage num: 587\rImage num: 588\rImage num: 589\rImage num: 590\rImage num: 591\rImage num: 592\rImage num: 593\rImage num: 594\rImage num: 595\rImage num: 596\rImage num: 597\rImage num: 598\rImage num: 599\rImage num: 600\rImage num: 601\rImage num: 602\rImage num: 603\rImage num: 604\rImage num: 605\rImage num: 606\rImage num: 607\rImage num: 608\rImage num: 609\rImage num: 610\rImage num: 611\rImage num: 612\rImage num: 613\rImage num: 614\rImage num: 615\rImage num: 616\rImage num: 617\rImage num: 618\rImage num: 619\rImage num: 620\rImage num: 621\rImage num: 622\rImage num: 623\rImage num: 624\rImage num: 625\rImage num: 626\rImage num: 627\rImage num: 628\rImage num: 629\rImage num: 630\rImage num: 631\rImage num: 632\rImage num: 633\rImage num: 634\rImage num: 635\rImage num: 636\rImage num: 637\rImage num: 638\rImage num: 639\rImage num: 640\rImage num: 641\rImage num: 642\rImage num: 643\rImage num: 644\rImage num: 645\rImage num: 646\rImage num: 647\rImage num: 648\rImage num: 649\rImage num: 650\rImage num: 651\rImage num: 652\rImage num: 653\rImage num: 654\rImage num: 655\rImage num: 656\rImage num: 657\rImage num: 658\rImage num: 659\rImage num: 660\rImage num: 661\rImage num: 662\rImage num: 663\rImage num: 664\rImage num: 665\rImage num: 666\rImage num: 667\rImage num: 668\rImage num: 669\rImage num: 670\rImage num: 671\rImage num: 672\rImage num: 673\rImage num: 674\rImage num: 675\rImage num: 676\rImage num: 677\rImage num: 678\rImage num: 679\rImage num: 680\rImage num: 681\rImage num: 682\rImage num: 683\rImage num: 684\rImage num: 685\rImage num: 686\rImage num: 687\rImage num: 688\rImage num: 689\rImage num: 690\rImage num: 691\rImage num: 692\rImage num: 693\rImage num: 694\rImage num: 695\rImage num: 696\rImage num: 697\rImage num: 698\rImage num: 699\rImage num: 700\rImage num: 701\rImage num: 702\rImage num: 703\rImage num: 704\rImage num: 705\rImage num: 706\rImage num: 707\rImage num: 708\rImage num: 709\rImage num: 710\rImage num: 711\rImage num: 712\rImage num: 713\rImage num: 714\rImage num: 715\rImage num: 716\rImage num: 717\rImage num: 718\rImage num: 719\rImage num: 720\rImage num: 721\rImage num: 722\rImage num: 723\rImage num: 724\rImage num: 725\rImage num: 726\rImage num: 727\rImage num: 728\rImage num: 729\rImage num: 730\rImage num: 731\rImage num: 732\rImage num: 733\rImage num: 734\rImage num: 735\rImage num: 736\rImage num: 737\rImage num: 738\rImage num: 739\rImage num: 740\rImage num: 741\rImage num: 742\rImage num: 743\rImage num: 744\rImage num: 745\rImage num: 746\rImage num: 747\rImage num: 748\rImage num: 749\rImage num: 750\rImage num: 751\rImage num: 752\rImage num: 753\rImage num: 754\rImage num: 755\rImage num: 756\rImage num: 757\rImage num: 758\rImage num: 759\rImage num: 760\rImage num: 761\rImage num: 762\rImage num: 763\rImage num: 764\rImage num: 765\rImage num: 766\rImage num: 767\rImage num: 768\rImage num: 769\rImage num: 770\rImage num: 771\rImage num: 772\rImage num: 773\rImage num: 774\rImage num: 775\rImage num: 776\rImage num: 777\rImage num: 778\rImage num: 779\rImage num: 780\rImage num: 781\rImage num: 782\rImage num: 783\rImage num: 784\rImage num: 785\rImage num: 786\rImage num: 787\rImage num: 788\rImage num: 789\rImage num: 790\rImage num: 791\rImage num: 792\rImage num: 793\rImage num: 794\rImage num: 795\rImage num: 796\rImage num: 797\rImage num: 798\rImage num: 799\rImage num: 800\rImage num: 801\rImage num: 802\rImage num: 803\rImage num: 804\rImage num: 805\rImage num: 806\rImage num: 807\rImage num: 808\rImage num: 809\rImage num: 810\rImage num: 811\rImage num: 812\rImage num: 813\rImage num: 814\rImage num: 815\rImage num: 816\rImage num: 817\rImage num: 818\rImage num: 819\rImage num: 820\rImage num: 821\rImage num: 822\rImage num: 823\rImage num: 824\rImage num: 825\rImage num: 826\rImage num: 827\rImage num: 828\rImage num: 829\rImage num: 830\rImage num: 831\rImage num: 832\rImage num: 833\rImage num: 834\rImage num: 835\rImage num: 836\rImage num: 837\rImage num: 838\rImage num: 839\rImage num: 840\rImage num: 841\rImage num: 842\rImage num: 843\rImage num: 844\rImage num: 845\rImage num: 846\rImage num: 847\rImage num: 848\rImage num: 849\rImage num: 850\rImage num: 851\rImage num: 852\rImage num: 853\rImage num: 854\rImage num: 855\rImage num: 856\rImage num: 857\rImage num: 858\rImage num: 859\rImage num: 860\rImage num: 861\rImage num: 862\rImage num: 863\rImage num: 864\rImage num: 865\rImage num: 866\rImage num: 867\rImage num: 868\rImage num: 869\rImage num: 870\rImage num: 871\rImage num: 872\rImage num: 873\rImage num: 874\rImage num: 875\rImage num: 876\rImage num: 877\rImage num: 878\rImage num: 879\rImage num: 880\rImage num: 881\rImage num: 882\rImage num: 883\rImage num: 884\rImage num: 885\rImage num: 886\rImage num: 887\rImage num: 888\rImage num: 889\rImage num: 890\rImage num: 891\rImage num: 892\rImage num: 893\rImage num: 894\rImage num: 895\rImage num: 896\rImage num: 897\rImage num: 898\rImage num: 899\rImage num: 900\rImage num: 901\rImage num: 902\rImage num: 903\rImage num: 904\rImage num: 905\rImage num: 906\rImage num: 907\rImage num: 908\rImage num: 909\rImage num: 910\rImage num: 911\rImage num: 912\rImage num: 913\rImage num: 914\rImage num: 915\rImage num: 916\rImage num: 917\rImage num: 918\rImage num: 919\rImage num: 920\rImage num: 921\rImage num: 922\rImage num: 923\rImage num: 924\rImage num: 925\rImage num: 926\rImage num: 927\rImage num: 928\rImage num: 929\rImage num: 930\rImage num: 931\rImage num: 932\rImage num: 933\rImage num: 934\rImage num: 935\rImage num: 936\rImage num: 937\rImage num: 938\rImage num: 939\rImage num: 940\rImage num: 941\rImage num: 942\rImage num: 943\rImage num: 944\rImage num: 945\rImage num: 946\rImage num: 947\rImage num: 948\rImage num: 949\rImage num: 950\rImage num: 951\rImage num: 952\rImage num: 953\rImage num: 954\rImage num: 955\rImage num: 956\rImage num: 957\rImage num: 958\rImage num: 959\rImage num: 960\rImage num: 961\rImage num: 962\rImage num: 963\rImage num: 964\rImage num: 965\rImage num: 966\rImage num: 967\rImage num: 968\rImage num: 969\rImage num: 970\rImage num: 971\rImage num: 972\rImage num: 973\rImage num: 974\rImage num: 975\rImage num: 976\rImage num: 977\rImage num: 978\rImage num: 979\rImage num: 980\rImage num: 981\rImage num: 982\rImage num: 983\rImage num: 984\rImage num: 985\rImage num: 986\rImage num: 987\rImage num: 988\rImage num: 989\rImage num: 990\rImage num: 991\rImage num: 992\rImage num: 993\rImage num: 994\rImage num: 995\rImage num: 996\rImage num: 997\rImage num: 998\rImage num: 999\rImage num: 1000\rImage num: 1001\rImage num: 1002\rImage num: 1003\rImage num: 1004\rImage num: 1005\rImage num: 1006\rImage num: 1007\rImage num: 1008\rImage num: 1009\rImage num: 1010\rImage num: 1011\rImage num: 1012\rImage num: 1013\rImage num: 1014\rImage num: 1015\rImage num: 1016\rImage num: 1017\rImage num: 1018\rImage num: 1019\rImage num: 1020\rImage num: 1021\rImage num: 1022\rImage num: 1023\rImage num: 1024\rImage num: 1025\rImage num: 1026\rImage num: 1027\rImage num: 1028\rImage num: 1029\rImage num: 1030\rImage num: 1031\rImage num: 1032\rImage num: 1033\rImage num: 1034\rImage num: 1035\rImage num: 1036\rImage num: 1037\rImage num: 1038\rImage num: 1039\rImage num: 1040\rImage num: 1041\rImage num: 1042\rImage num: 1043\rImage num: 1044\rImage num: 1045\rImage num: 1046\rImage num: 1047\rImage num: 1048\rImage num: 1049\rImage num: 1050\rImage num: 1051\rImage num: 1052\rImage num: 1053\rImage num: 1054\rImage num: 1055\rImage num: 1056\rImage num: 1057\rImage num: 1058\rImage num: 1059\rImage num: 1060\rImage num: 1061\rImage num: 1062\rImage num: 1063\rImage num: 1064\rImage num: 1065\rImage num: 1066\rImage num: 1067\rImage num: 1068\rImage num: 1069\rImage num: 1070\rImage num: 1071\rImage num: 1072\rImage num: 1073\rImage num: 1074\rImage num: 1075\rImage num: 1076\rImage num: 1077\rImage num: 1078\rImage num: 1079\rImage num: 1080\rImage num: 1081\rImage num: 1082\rImage num: 1083\rImage num: 1084\rImage num: 1085\rImage num: 1086\rImage num: 1087\rImage num: 1088\rImage num: 1089\rImage num: 1090\rImage num: 1091\rImage num: 1092\rImage num: 1093\rImage num: 1094\rImage num: 1095\rImage num: 1096\rImage num: 1097\rImage num: 1098\rImage num: 1099\rImage num: 1100\rImage num: 1101\rImage num: 1102\rImage num: 1103\rImage num: 1104\rImage num: 1105\rImage num: 1106\rImage num: 1107\rImage num: 1108\rImage num: 1109\rImage num: 1110\rImage num: 1111\rImage num: 1112\rImage num: 1113\rImage num: 1114\rImage num: 1115\rImage num: 1116\rImage num: 1117\rImage num: 1118\rImage num: 1119\rImage num: 1120\rImage num: 1121\rImage num: 1122\rImage num: 1123\rImage num: 1124\rImage num: 1125\rImage num: 1126\rImage num: 1127\rImage num: 1128\rImage num: 1129\rImage num: 1130\rImage num: 1131\rImage num: 1132\rImage num: 1133\rImage num: 1134\rImage num: 1135\rImage num: 1136\rImage num: 1137\rImage num: 1138\rImage num: 1139\rImage num: 1140\rImage num: 1141\rImage num: 1142\rImage num: 1143\rImage num: 1144\rImage num: 1145\rImage num: 1146\rImage num: 1147\rImage num: 1148\rImage num: 1149\rImage num: 1150\rImage num: 1151\rImage num: 1152\rImage num: 1153\rImage num: 1154\rImage num: 1155\rImage num: 1156\rImage num: 1157\rImage num: 1158\rImage num: 1159\rImage num: 1160\rImage num: 1161\rImage num: 1162\rImage num: 1163\rImage num: 1164\rImage num: 1165\rImage num: 1166\rImage num: 1167\rImage num: 1168\rImage num: 1169\rImage num: 1170\rImage num: 1171\rImage num: 1172\rImage num: 1173\rImage num: 1174\rImage num: 1175\rImage num: 1176\rImage num: 1177\rImage num: 1178\rImage num: 1179\rImage num: 1180\rImage num: 1181\rImage num: 1182\rImage num: 1183\rImage num: 1184\rImage num: 1185\rImage num: 1186\rImage num: 1187\rImage num: 1188\rImage num: 1189\rImage num: 1190\rImage num: 1191\rImage num: 1192\rImage num: 1193\rImage num: 1194\rImage num: 1195\rImage num: 1196\rImage num: 1197\rImage num: 1198\rImage num: 1199\rImage num: 1200\rImage num: 1201\rImage num: 1202\rImage num: 1203\rImage num: 1204\rImage num: 1205\rImage num: 1206\rImage num: 1207\rImage num: 1208\rImage num: 1209\rImage num: 1210\rImage num: 1211\rImage num: 1212\rImage num: 1213\rImage num: 1214\rImage num: 1215\rImage num: 1216\rImage num: 1217\rImage num: 1218\rImage num: 1219\rImage num: 1220\rImage num: 1221\rImage num: 1222\rImage num: 1223\rImage num: 1224\rImage num: 1225\rImage num: 1226\rImage num: 1227\rImage num: 1228\rImage num: 1229\rImage num: 1230\rImage num: 1231\rImage num: 1232\rImage num: 1233\rImage num: 1234\rImage num: 1235\rImage num: 1236\rImage num: 1237\rImage num: 1238\rImage num: 1239\rImage num: 1240\rImage num: 1241\rImage num: 1242\rImage num: 1243\rImage num: 1244\rImage num: 1245\rImage num: 1246\rImage num: 1247\rImage num: 1248\rImage num: 1249\rImage num: 1250\rImage num: 1251\rImage num: 1252\rImage num: 1253\rImage num: 1254\rImage num: 1255\rImage num: 1256\rImage num: 1257\rImage num: 1258\rImage num: 1259\rImage num: 1260\rImage num: 1261\rImage num: 1262\rImage num: 1263\rImage num: 1264\rImage num: 1265\rImage num: 1266\rImage num: 1267\rImage num: 1268\rImage num: 1269\rImage num: 1270\rImage num: 1271\rImage num: 1272\rImage num: 1273\rImage num: 1274\rImage num: 1275\rImage num: 1276\rImage num: 1277\rImage num: 1278\rImage num: 1279\rImage num: 1280\rImage num: 1281\rImage num: 1282\rImage num: 1283\rImage num: 1284\rImage num: 1285\rImage num: 1286\rImage num: 1287\rImage num: 1288\rImage num: 1289\rImage num: 1290\rImage num: 1291\rImage num: 1292\rImage num: 1293\rImage num: 1294\rImage num: 1295\rImage num: 1296\rImage num: 1297\rImage num: 1298\rImage num: 1299\rImage num: 1300\rImage num: 1301\rImage num: 1302\rImage num: 1303\rImage num: 1304\rImage num: 1305\rImage num: 1306\rImage num: 1307\rImage num: 1308\rImage num: 1309\rImage num: 1310\rImage num: 1311\rImage num: 1312\rImage num: 1313\rImage num: 1314\rImage num: 1315\rImage num: 1316\rImage num: 1317\rImage num: 1318\rImage num: 1319\rImage num: 1320\rImage num: 1321\rImage num: 1322\rImage num: 1323\rImage num: 1324\rImage num: 1325\rImage num: 1326\rImage num: 1327\rImage num: 1328\rImage num: 1329\rImage num: 1330\rImage num: 1331\rImage num: 1332\rImage num: 1333\rImage num: 1334\rImage num: 1335\rImage num: 1336\rImage num: 1337\rImage num: 1338\rImage num: 1339\rImage num: 1340\rImage num: 1341\rImage num: 1342\rImage num: 1343\rImage num: 1344\rImage num: 1345\rImage num: 1346\rImage num: 1347\rImage num: 1348\rImage num: 1349\rImage num: 1350\rImage num: 1351\rImage num: 1352\rImage num: 1353\rImage num: 1354\rImage num: 1355\rImage num: 1356\rImage num: 1357\rImage num: 1358\rImage num: 1359\rImage num: 1360\rImage num: 1361\rImage num: 1362\rImage num: 1363\rImage num: 1364\rImage num: 1365\rImage num: 1366\rImage num: 1367\rImage num: 1368\rImage num: 1369\rImage num: 1370\rImage num: 1371\rImage num: 1372\rImage num: 1373\rImage num: 1374\rImage num: 1375\rImage num: 1376\rImage num: 1377\rImage num: 1378\rImage num: 1379\rImage num: 1380\rImage num: 1381\rImage num: 1382\rImage num: 1383\rImage num: 1384\rImage num: 1385\rImage num: 1386\rImage num: 1387\rImage num: 1388\rImage num: 1389\rImage num: 1390\rImage num: 1391\rImage num: 1392\rImage num: 1393\rImage num: 1394\rImage num: 1395\rImage num: 1396\rImage num: 1397\rImage num: 1398\rImage num: 1399\rImage num: 1400\rImage num: 1401\rImage num: 1402\rImage num: 1403\rImage num: 1404\rImage num: 1405\rImage num: 1406\rImage num: 1407\rImage num: 1408\rImage num: 1409\rImage num: 1410\rImage num: 1411\rImage num: 1412\rImage num: 1413\rImage num: 1414\rImage num: 1415\rImage num: 1416\rImage num: 1417\rImage num: 1418\rImage num: 1419\rImage num: 1420\rImage num: 1421\rImage num: 1422\rImage num: 1423\rImage num: 1424\rImage num: 1425\rImage num: 1426\rImage num: 1427\rImage num: 1428\rImage num: 1429\rImage num: 1430\rImage num: 1431\rImage num: 1432\rImage num: 1433\rImage num: 1434\rImage num: 1435\rImage num: 1436\rImage num: 1437\rImage num: 1438\rImage num: 1439\rImage num: 1440\rImage num: 1441\rImage num: 1442\rImage num: 1443\rImage num: 1444\rImage num: 1445\rImage num: 1446\rImage num: 1447\rImage num: 1448\rImage num: 1449\rImage num: 1450\rImage num: 1451\rImage num: 1452\rImage num: 1453\rImage num: 1454\rImage num: 1455\rImage num: 1456\rImage num: 1457\rImage num: 1458\rImage num: 1459\rImage num: 1460\rImage num: 1461\rImage num: 1462\rImage num: 1463\rImage num: 1464\rImage num: 1465\rImage num: 1466\rImage num: 1467\rImage num: 1468\rImage num: 1469\rImage num: 1470\rImage num: 1471\rImage num: 1472\rImage num: 1473\rImage num: 1474\rImage num: 1475\rImage num: 1476\rImage num: 1477\rImage num: 1478\rImage num: 1479\rImage num: 1480\rImage num: 1481\rImage num: 1482\rImage num: 1483\rImage num: 1484\rImage num: 1485\rImage num: 1486\rImage num: 1487\rImage num: 1488\rImage num: 1489\rImage num: 1490\rImage num: 1491\rImage num: 1492\rImage num: 1493\rImage num: 1494\rImage num: 1495\rImage num: 1496\rImage num: 1497\rImage num: 1498\rImage num: 1499\rImage num: 1500\rImage num: 1501\rImage num: 1502\rImage num: 1503\rImage num: 1504\rImage num: 1505\rImage num: 1506\rImage num: 1507\rImage num: 1508\rImage num: 1509\rImage num: 1510\rImage num: 1511\rImage num: 1512\rImage num: 1513\rImage num: 1514\rImage num: 1515\rImage num: 1516\rImage num: 1517\rImage num: 1518\rImage num: 1519\rImage num: 1520\rImage num: 1521\rImage num: 1522\rImage num: 1523\rImage num: 1524\rImage num: 1525\rImage num: 1526\rImage num: 1527\rImage num: 1528\rImage num: 1529\rImage num: 1530\rImage num: 1531\rImage num: 1532\rImage num: 1533\rImage num: 1534\rImage num: 1535\rImage num: 1536\rImage num: 1537\rImage num: 1538\rImage num: 1539\rImage num: 1540\rImage num: 1541\rImage num: 1542\rImage num: 1543\rImage num: 1544\rImage num: 1545\rImage num: 1546\rImage num: 1547\rImage num: 1548\rImage num: 1549\rImage num: 1550\rImage num: 1551\rImage num: 1552\rImage num: 1553\rImage num: 1554\rImage num: 1555\rImage num: 1556\rImage num: 1557\rImage num: 1558\rImage num: 1559\rImage num: 1560\rImage num: 1561\rImage num: 1562\rImage num: 1563\rImage num: 1564\rImage num: 1565\rImage num: 1566\rImage num: 1567\rImage num: 1568\rImage num: 1569\rImage num: 1570\rImage num: 1571\rImage num: 1572\rImage num: 1573\rImage num: 1574\rImage num: 1575\rImage num: 1576\rImage num: 1577\rImage num: 1578\rImage num: 1579\rImage num: 1580\rImage num: 1581\rImage num: 1582\rImage num: 1583\rImage num: 1584\rImage num: 1585\rImage num: 1586\rImage num: 1587\rImage num: 1588\rImage num: 1589\rImage num: 1590\rImage num: 1591\rImage num: 1592\rImage num: 1593\rImage num: 1594\rImage num: 1595\rImage num: 1596\rImage num: 1597\rImage num: 1598\rImage num: 1599\rImage num: 1600\rImage num: 1601\rImage num: 1602\rImage num: 1603\rImage num: 1604\rImage num: 1605\rImage num: 1606\rImage num: 1607\rImage num: 1608\rImage num: 1609\rImage num: 1610\rImage num: 1611\rImage num: 1612\rImage num: 1613\rImage num: 1614\rImage num: 1615\rImage num: 1616\rImage num: 1617\rImage num: 1618\rImage num: 1619\rImage num: 1620\rImage num: 1621\rImage num: 1622\rImage num: 1623\rImage num: 1624\rImage num: 1625\rImage num: 1626\rImage num: 1627\rImage num: 1628\rImage num: 1629\rImage num: 1630\rImage num: 1631\rImage num: 1632\rImage num: 1633\rImage num: 1634\rImage num: 1635\rImage num: 1636\rImage num: 1637\rImage num: 1638\rImage num: 1639\rImage num: 1640\rImage num: 1641\rImage num: 1642\rImage num: 1643\rImage num: 1644\rImage num: 1645\rImage num: 1646\rImage num: 1647\rImage num: 1648\rImage num: 1649\rImage num: 1650\rImage num: 1651\rImage num: 1652\rImage num: 1653\rImage num: 1654\rImage num: 1655\rImage num: 1656\rImage num: 1657\rImage num: 1658\rImage num: 1659\rImage num: 1660\rImage num: 1661\rImage num: 1662\rImage num: 1663\rImage num: 1664\rImage num: 1665\rImage num: 1666\rImage num: 1667\rImage num: 1668\rImage num: 1669\rImage num: 1670\rImage num: 1671\rImage num: 1672\rImage num: 1673\rImage num: 1674\rImage num: 1675\rImage num: 1676\rImage num: 1677\rImage num: 1678\rImage num: 1679\rImage num: 1680\rImage num: 1681\rImage num: 1682\rImage num: 1683\rImage num: 1684\rImage num: 1685\rImage num: 1686\rImage num: 1687\rImage num: 1688\rImage num: 1689\rImage num: 1690\rImage num: 1691\rImage num: 1692\rImage num: 1693\rImage num: 1694\rImage num: 1695\rImage num: 1696\rImage num: 1697\rImage num: 1698\rImage num: 1699\rImage num: 1700\rImage num: 1701\rImage num: 1702\rImage num: 1703\rImage num: 1704\rImage num: 1705\rImage num: 1706\rImage num: 1707\rImage num: 1708\rImage num: 1709\rImage num: 1710\rImage num: 1711\rImage num: 1712\rImage num: 1713\rImage num: 1714\rImage num: 1715\rImage num: 1716\rImage num: 1717\rImage num: 1718\rImage num: 1719\rImage num: 1720\rImage num: 1721\rImage num: 1722\rImage num: 1723\rImage num: 1724\rImage num: 1725\rImage num: 1726\rImage num: 1727\rImage num: 1728\rImage num: 1729\rImage num: 1730\rImage num: 1731\rImage num: 1732\rImage num: 1733\rImage num: 1734\rImage num: 1735\rImage num: 1736\rImage num: 1737\rImage num: 1738\rImage num: 1739\rImage num: 1740\rImage num: 1741\rImage num: 1742\rImage num: 1743\rImage num: 1744\rImage num: 1745\rImage num: 1746\rImage num: 1747\rImage num: 1748\rImage num: 1749\rImage num: 1750\rImage num: 1751\rImage num: 1752\rImage num: 1753\rImage num: 1754\rImage num: 1755\rImage num: 1756\rImage num: 1757\rImage num: 1758\rImage num: 1759\rImage num: 1760\rImage num: 1761\rImage num: 1762\rImage num: 1763\rImage num: 1764\rImage num: 1765\rImage num: 1766\rImage num: 1767\rImage num: 1768\rImage num: 1769\rImage num: 1770\rImage num: 1771\rImage num: 1772\rImage num: 1773\rImage num: 1774\rImage num: 1775\rImage num: 1776\rImage num: 1777\rImage num: 1778\rImage num: 1779\rImage num: 1780\rImage num: 1781\rImage num: 1782\rImage num: 1783\rImage num: 1784\rImage num: 1785\rImage num: 1786\rImage num: 1787\rImage num: 1788\rImage num: 1789\rImage num: 1790\rImage num: 1791\rImage num: 1792\rImage num: 1793\rImage num: 1794\rImage num: 1795\rImage num: 1796\rImage num: 1797\rImage num: 1798\rImage num: 1799\rImage num: 1800\rImage num: 1801\rImage num: 1802\rImage num: 1803\rImage num: 1804\rImage num: 1805\rImage num: 1806\rImage num: 1807\rImage num: 1808\rImage num: 1809\rImage num: 1810\rImage num: 1811\rImage num: 1812\rImage num: 1813\rImage num: 1814\rImage num: 1815\rImage num: 1816\rImage num: 1817\rImage num: 1818\rImage num: 1819\rImage num: 1820\rImage num: 1821\rImage num: 1822\rImage num: 1823\rImage num: 1824\rImage num: 1825\rImage num: 1826\rImage num: 1827\rImage num: 1828\rImage num: 1829\rImage num: 1830\rImage num: 1831\rImage num: 1832\rImage num: 1833\rImage num: 1834\rImage num: 1835\rImage num: 1836\rImage num: 1837\rImage num: 1838\rImage num: 1839\rImage num: 1840\rImage num: 1841\rImage num: 1842\rImage num: 1843\rImage num: 1844\rImage num: 1845\rImage num: 1846\rImage num: 1847\rImage num: 1848\rImage num: 1849\rImage num: 1850\rImage num: 1851\rImage num: 1852\rImage num: 1853\rImage num: 1854\rImage num: 1855\rImage num: 1856\rImage num: 1857\rImage num: 1858\rImage num: 1859\rImage num: 1860\rImage num: 1861\rImage num: 1862\rImage num: 1863\rImage num: 1864\rImage num: 1865\rImage num: 1866\rImage num: 1867\rImage num: 1868\rImage num: 1869\rImage num: 1870\rImage num: 1871\rImage num: 1872\rImage num: 1873\rImage num: 1874\rImage num: 1875"
          ]
        }
      ],
      "source": [
        "test_list = loadImagesName(test_folder, 1875)"
      ]
    },
    {
      "cell_type": "code",
      "execution_count": 19,
      "metadata": {
        "id": "wtmuB14T92XY"
      },
      "outputs": [],
      "source": [
        "class ImageDataset(torch.utils.data.Dataset):\n",
        "  def __init__(self, images_list):\n",
        "    self.images_list = images_list\n",
        "    self.img_transform = transforms.Compose([\n",
        "      transforms.Resize(256),\n",
        "      transforms.CenterCrop(224),\n",
        "    ])\n",
        "\n",
        "  def __len__(self):\n",
        "    return len(self.images_list)\n",
        "  \n",
        "  def __getitem__(self, idx):\n",
        "    img = Image.open(self.images_list[idx]).convert('RGB')\n",
        "    img = self.img_transform(img)\n",
        "    img = np.asarray(img)\n",
        "    img_lab = color.rgb2lab(img) # restituisce un numpy\n",
        "    img_lab = (img_lab + 128) / 255    # perché i valori dei canali ab del formato Lab vanno da -128 a 127 e li vogliamo tra [0,1]\n",
        "    img_ab = img_lab[:, :, 1:3] # forma: WxHxC = [224, 224, 2]\n",
        "    img_ab = torch.from_numpy(img_ab.transpose((2, 0, 1))).float()\n",
        "    img_gray = color.rgb2gray(img)\n",
        "    img_gray = torch.from_numpy(img_gray).unsqueeze(0).float()\n",
        "    img = torch.from_numpy(img.transpose((2, 0, 1))).float()\n",
        "    return img, img_ab, img_gray\n"
      ]
    },
    {
      "cell_type": "code",
      "execution_count": 48,
      "metadata": {
        "id": "XNmmunfM0ZwW"
      },
      "outputs": [],
      "source": [
        "train_dataset = ImageDataset(train_list)\n",
        "train_dataloader = torch.utils.data.DataLoader(train_dataset, batch_size=batch_size, shuffle=True)"
      ]
    },
    {
      "cell_type": "code",
      "execution_count": 49,
      "metadata": {
        "id": "g6j214fXEGIx"
      },
      "outputs": [],
      "source": [
        "val_dataset = ImageDataset(val_list)\n",
        "val_dataloader = torch.utils.data.DataLoader(val_dataset, batch_size=batch_size, shuffle=True)"
      ]
    },
    {
      "cell_type": "code",
      "execution_count": 50,
      "metadata": {
        "id": "-cOPIohWEIOt"
      },
      "outputs": [],
      "source": [
        "test_dataset = ImageDataset(test_list)\n",
        "test_dataloader = torch.utils.data.DataLoader(test_dataset, batch_size=batch_size, shuffle=True)"
      ]
    },
    {
      "cell_type": "markdown",
      "metadata": {
        "id": "8Rt-a1rL1oFn"
      },
      "source": [
        "# Regressione"
      ]
    },
    {
      "cell_type": "markdown",
      "metadata": {
        "id": "msVtIgsBPxes"
      },
      "source": [
        "## Modello"
      ]
    },
    {
      "cell_type": "code",
      "execution_count": 23,
      "metadata": {
        "id": "KY9qwmY51sh9"
      },
      "outputs": [],
      "source": [
        "class ColorizationRNet(nn.Module):\n",
        "  def __init__(self, input_size = 128):\n",
        "    super(ColorizationRNet, self).__init__()\n",
        "\n",
        "    # Importo ResNet che userò per estrarre le features dalle immagini\n",
        "    resnet = torchvision.models.resnet18()\n",
        "    # Cambio il primo livello di convoluzione di ResNet per accetta input con un solo canale\n",
        "    resnet.conv1.weight = nn.Parameter(resnet.conv1.weight.sum(dim=1).unsqueeze(1)) \n",
        "    # Estraggo le feature dalle immagini\n",
        "    self.midlevel_resnet = nn.Sequential(*list(resnet.children())[0:6])\n",
        "\n",
        "    # Livelli di deconvoluzione:\n",
        "    self.deconv = nn.Sequential(\n",
        "        nn.Conv2d(128, 128, kernel_size=3, stride=1, padding=1),\n",
        "        nn.BatchNorm2d(128),\n",
        "        nn.ReLU(),\n",
        "        nn.Upsample(scale_factor=2),\n",
        "        nn.Conv2d(128, 64, kernel_size=3, stride=1, padding=1),\n",
        "        nn.BatchNorm2d(64),\n",
        "        nn.ReLU(),\n",
        "        nn.Conv2d(64, 64, kernel_size=3, stride=1, padding=1),\n",
        "        nn.BatchNorm2d(64),\n",
        "        nn.ReLU(),\n",
        "        nn.Upsample(scale_factor=2),\n",
        "        nn.Conv2d(64, 32, kernel_size=3, stride=1, padding=1),\n",
        "        nn.BatchNorm2d(32),\n",
        "        nn.ReLU(),\n",
        "        nn.Conv2d(32, 2, kernel_size=3, stride=1, padding=1),\n",
        "        nn.Upsample(scale_factor=2)\n",
        "    )\n",
        "\n",
        "  def forward(self, x):\n",
        "    x = self.midlevel_resnet(x)\n",
        "    output = self.deconv(x)\n",
        "    return output"
      ]
    },
    {
      "cell_type": "code",
      "execution_count": 24,
      "metadata": {
        "id": "QwGrjI6SJ8eJ"
      },
      "outputs": [],
      "source": [
        "reg_net = ColorizationRNet()\n",
        "reg_net = reg_net.to(device)"
      ]
    },
    {
      "cell_type": "markdown",
      "metadata": {
        "id": "chVUarIbQOF-"
      },
      "source": [
        "## Funzione di costo e di ottimizzazione"
      ]
    },
    {
      "cell_type": "code",
      "execution_count": 25,
      "metadata": {
        "id": "3y7KBtPDQdvW"
      },
      "outputs": [],
      "source": [
        "optimizer = torch.optim.Adam(params=reg_net.parameters(), lr=learning_rate)\n",
        "criterion = nn.MSELoss()\n",
        "criterion = criterion.to(device)"
      ]
    },
    {
      "cell_type": "markdown",
      "metadata": {
        "id": "ZXKFFqiKnH5l"
      },
      "source": [
        "## Train"
      ]
    },
    {
      "cell_type": "code",
      "execution_count": 46,
      "metadata": {
        "id": "hdBRqhIdnK_t"
      },
      "outputs": [],
      "source": [
        "def train(epoch, loss_avg):\n",
        "  # Set model to training model\n",
        "  reg_net.train()\n",
        "\n",
        "  print('\\nStarting training epoch {}\\n'.format(epoch))\n",
        "\n",
        "  loss_avg.append(0)\n",
        "\n",
        "  for batch_idx, (img, img_ab, img_gray) in enumerate(train_dataloader):\n",
        "    img = img.to(device)\n",
        "    img_ab = img_ab.to(device)\n",
        "    img_gray = img_gray.to(device)\n",
        "\n",
        "    # Predizione dell'immagine ab da grayscale\n",
        "    predicted = reg_net(img_gray)\n",
        "  \n",
        "    # Calcolo l'errore L2 tra i colori ottenuti e quelli veri:\n",
        "    loss = criterion(predicted, img_ab)\n",
        "\n",
        "    # Backpropagation\n",
        "    optimizer.zero_grad()\n",
        "    loss.backward()\n",
        "\n",
        "    # Aggiorno i pesi:\n",
        "    optimizer.step()\n",
        "\n",
        "    loss_avg[-1]+=loss.item()\n",
        "\n",
        "    if batch_idx % 12 == 0:\n",
        "        print('Train Epoch: {} [{}/{} ({:.0f}%)]  Loss: {:.6f}'.format(\n",
        "            epoch, batch_idx*len(img), len(train_dataloader.dataset), 100. * batch_idx / len(train_dataloader), loss.item()))\n",
        "\n",
        "  loss_avg[-1]/= batch_size\n",
        "  print('\\nFinished training epoch {}\\n'.format(epoch))\n"
      ]
    },
    {
      "cell_type": "markdown",
      "metadata": {
        "id": "SIQYIvBry5dA"
      },
      "source": [
        "## Validation"
      ]
    },
    {
      "cell_type": "code",
      "execution_count": 63,
      "metadata": {
        "id": "aHHvNWsyy5dL"
      },
      "outputs": [],
      "source": [
        "def validation(epoch, val_loss_avg):\n",
        "  # Set model to validation model\n",
        "  reg_net.eval()\n",
        "\n",
        "  val_loss_avg.append(0)\n",
        "\n",
        "  for batch_idx, (img, img_ab, img_gray)in enumerate(val_dataloader):\n",
        "    img = img.to(device)\n",
        "    img_ab = img_ab.to(device)\n",
        "    img_gray = img_gray.to(device)\n",
        "\n",
        "    # Predizione dell'immagine ab da grayscale\n",
        "    predicted = reg_net(img_gray)\n",
        "\n",
        "    # Calcolo l'errore L2 tra i colori ottenuti e quelli veri:\n",
        "    loss = criterion(predicted, img_ab)\n",
        "    val_loss_avg[-1]+=loss.item()\n",
        "\n",
        "    # Salvo la prima foto di ogni epoca\n",
        "    if batch_idx==0: \n",
        "      plt.clf() #clear matplotlib\n",
        "      input_gray = img_gray[0].cpu().squeeze().numpy()\n",
        "      output_color = torch.cat((img_gray[0].cpu(), predicted[0].detach().cpu()), 0).numpy()\n",
        "      output_color = output_color.transpose((1,2,0))\n",
        "      output_color[:, :, 0:1] = output_color[:, :, 0:1] * 100\n",
        "      output_color[:, :, 1:3] = output_color[:, :, 1:3] * 255 - 128   \n",
        "      output_color = color.lab2rgb(output_color.astype(np.float64))\n",
        "      real_color = img[0].cpu().numpy().transpose((1,2,0)).astype(np.float64)\n",
        "      plt.imsave(arr=input_gray, fname = '/content/drive/MyDrive/ProgettoLab/immagini/grayscale_{}.jpg'.format(epoch))\n",
        "      plt.imsave(arr=output_color, fname = '/content/drive/MyDrive/ProgettoLab/immagini/recolored_{}.jpg'.format(epoch))\n",
        "      plt.imsave(arr=real_color, fname = '/content/drive/MyDrive/ProgettoLab/immagini/real_{}.jpg'.format(epoch))\n",
        "\n",
        "  \n",
        "\n",
        "  val_loss_avg[-1]/= batch_size\n",
        "  print('\\nValidation set: Average loss: {:.4f}\\n'.format(val_loss_avg[-1]))\n",
        "  return val_loss_avg[-1]\n"
      ]
    },
    {
      "cell_type": "markdown",
      "metadata": {
        "id": "R3jCZTcQ-an9"
      },
      "source": [
        "## Allenamento"
      ]
    },
    {
      "cell_type": "code",
      "execution_count": null,
      "metadata": {
        "colab": {
          "base_uri": "https://localhost:8080/"
        },
        "id": "-hy8YdTx-dop",
        "outputId": "38dcd96f-db96-4e11-bcd9-f66c4810a38b"
      },
      "outputs": [
        {
          "output_type": "stream",
          "name": "stdout",
          "text": [
            "\n",
            "Starting training epoch 1\n",
            "\n",
            "Train Epoch: 1 [0/5000 (0%)]  Loss: 0.003638\n",
            "Train Epoch: 1 [384/5000 (8%)]  Loss: 0.003049\n",
            "Train Epoch: 1 [768/5000 (15%)]  Loss: 0.003326\n"
          ]
        }
      ],
      "source": [
        "best_losses = 1.0\n",
        "train_loss_avg = []\n",
        "val_loss_avg = []\n",
        "\n",
        "for epoch in range(1, num_epochs+1):\n",
        "  train(epoch, train_loss_avg)\n",
        "  losses = validation(epoch, val_loss_avg)\n",
        "\n",
        "  if losses < best_losses:\n",
        "    best_losses = losses\n",
        "    torch.save(reg_net.state_dict(), '/content/drive/MyDrive/ProgettoLab/checkpoints/model-epoch-{}-losses-{:.3f}.pth'.format(epoch+1,losses))\n"
      ]
    },
    {
      "cell_type": "markdown",
      "metadata": {
        "id": "eOYzLm1znVAk"
      },
      "source": [
        "## Grafico della curva di apprendimento"
      ]
    },
    {
      "cell_type": "code",
      "execution_count": null,
      "metadata": {
        "id": "q-R9hLS5nbAo"
      },
      "outputs": [],
      "source": [
        "plt.ion()\n",
        "fig = plt.figure(figsize=(10, 5))\n",
        "plt.plot(train_loss_avg)\n",
        "plt.xlabel('Epochs')\n",
        "plt.ylabel('Loss')\n",
        "plt.title('Training loss')\n",
        "plt.show()"
      ]
    },
    {
      "cell_type": "code",
      "execution_count": null,
      "metadata": {
        "id": "HeZpTwP3CkAT"
      },
      "outputs": [],
      "source": [
        "plt.ion()\n",
        "fig = plt.figure(figsize=(10, 5))\n",
        "plt.plot(val_loss_avg)\n",
        "plt.xlabel('Epochs')\n",
        "plt.ylabel('Loss')\n",
        "plt.title('Validation loss')\n",
        "plt.show()"
      ]
    },
    {
      "cell_type": "markdown",
      "metadata": {
        "id": "AtEbe_4InkkL"
      },
      "source": [
        "## Risultato su un'immagine del Test Set"
      ]
    },
    {
      "cell_type": "code",
      "execution_count": null,
      "metadata": {
        "id": "iUBuSBPmnzgR"
      },
      "outputs": [],
      "source": [
        ""
      ]
    },
    {
      "cell_type": "markdown",
      "metadata": {
        "id": "bwXYJnOS1sy6"
      },
      "source": [
        "# Classificazione "
      ]
    },
    {
      "cell_type": "markdown",
      "metadata": {
        "id": "OmHFwyZEQqyG"
      },
      "source": [
        "## Modello"
      ]
    },
    {
      "cell_type": "code",
      "execution_count": null,
      "metadata": {
        "id": "eTNG7tehQqyJ"
      },
      "outputs": [],
      "source": [
        "class ColorizationCNet(nn.Module):\n",
        "  def __init__(self):\n",
        "    super(ColorizationCNet, self).__init__()\n",
        "\n",
        "    self.network = nn.Sequential(\n",
        "        nn.Conv2d(1,64,kernel_size=3, stride=1, padding=1),\n",
        "        nn.ReLU(),\n",
        "        nn.Conv2d(64,64,kernel_size=3, stride=2, padding=1),\n",
        "        nn.ReLU(),\n",
        "        nn.BatchNorm2d(64),\n",
        "\n",
        "        nn.Conv2d(64,128,kernel_size=3, stride=1, padding=1),\n",
        "        nn.ReLU(),\n",
        "        nn.Conv2d(128,128,kernel_size=3, stride=2, padding=1),\n",
        "        nn.ReLU(),\n",
        "        nn.BatchNorm2d(128),\n",
        "\n",
        "        nn.Conv2d(128,256,kernel_size=3, stride=1, padding=1),\n",
        "        nn.ReLU(),\n",
        "        nn.Conv2d(256,256,kernel_size=3, stride=2, padding=1),\n",
        "        nn.ReLU(),\n",
        "        nn.BatchNorm2d(256),\n",
        "\n",
        "        nn.Conv2d(256,512,kernel_size=3, stride=1, padding=1),\n",
        "        nn.ReLU(),\n",
        "        nn.Conv2d(512,512,kernel_size=3, stride=2, padding=1),\n",
        "        nn.ReLU(),\n",
        "        nn.BatchNorm2d(512),\n",
        "\n",
        "        nn.Conv2d(512,512,kernel_size=3, stride=1, padding=2, dilatation=2),\n",
        "        nn.ReLU(),\n",
        "        nn.Conv2d(512,512,kernel_size=3, stride=1, padding=2, dilatation=2),\n",
        "        nn.ReLU(),\n",
        "        nn.BatchNorm2d(512),\n",
        "\n",
        "        nn.Conv2d(512,512,kernel_size=3, stride=1, padding=2, dilatation=2),\n",
        "        nn.ReLU(),\n",
        "        nn.Conv2d(512,512,kernel_size=3, stride=1, padding=2, dilatation=2),\n",
        "        nn.ReLU(),\n",
        "        nn.BatchNorm2d(512),\n",
        "\n",
        "        nn.Conv2d(512,512,kernel_size=3, stride=1, padding=1),\n",
        "        nn.ReLU(),\n",
        "        nn.Conv2d(512,512,kernel_size=3, stride=1, padding=1),\n",
        "        nn.ReLU(),\n",
        "        nn.BatchNorm2d(512),\n",
        "\n",
        "        nn.ConvTransposed2d(512, 256, kernel_size=4, stride=2, padding=1),\n",
        "        nn.ReLU(),\n",
        "        nn.Conv2d(256,256, kernel_size=3, stride=1, padding=1),\n",
        "        nn.ReLU(),\n",
        "\n",
        "        nn.Conv2d(256, 313, kenel_size=1, stride=1, padding=0),\n",
        "        nn.Softmax(dim=1),\n",
        "        nn.Conv2d(313, 2, kernel_size=1, padding=0, dilation=1, stride=1),\n",
        "        nn.Upsample(scale_factor=4)\n",
        "    )\n",
        "\n",
        "\n",
        "  def forward(self, x):\n",
        "    output = self.network(x)\n",
        "    return output"
      ]
    },
    {
      "cell_type": "code",
      "execution_count": null,
      "metadata": {
        "id": "K0GWb58aQqyL"
      },
      "outputs": [],
      "source": [
        "clas_net = ColorizationCNet()"
      ]
    },
    {
      "cell_type": "markdown",
      "metadata": {
        "id": "DhG79IiJQqyM"
      },
      "source": [
        "## Funzione di costo e di ottimizzazione"
      ]
    },
    {
      "cell_type": "code",
      "execution_count": null,
      "metadata": {
        "id": "-lpIfiqMQqyN"
      },
      "outputs": [],
      "source": [
        ""
      ]
    },
    {
      "cell_type": "markdown",
      "source": [
        "## Funzione per ottenere le label"
      ],
      "metadata": {
        "id": "T1s9Fsv4NWCo"
      }
    },
    {
      "cell_type": "code",
      "source": [
        "def get_labels(batch_ab):\n",
        "  labels = []\n",
        "  for img in batch_ab:\n",
        "    label = np.zeros((224*224,313))\n",
        "    img = np.reshape(img, (-1,2))\n",
        "    distances, indices = knn.kneighbors(img, 5)\n",
        "    weights = np.exp(-distances ** 2 / (2 * SIGMA ** 2))\n",
        "    weights = weights / np.sum(weights, axis=1)[:, np.newaxis]\n",
        "    label[self.pixel_idx, indices] = weights\n",
        "    label = np.reshape(label, (IMAGE_HEIGHT, IMAGE_WIDTH, 313))\n",
        "    labels.append(label)\n",
        "  return labels"
      ],
      "metadata": {
        "id": "D_-6A7hNNZ5K"
      },
      "execution_count": null,
      "outputs": []
    },
    {
      "cell_type": "markdown",
      "metadata": {
        "id": "KH5NjL1Zn31l"
      },
      "source": [
        "## Train"
      ]
    },
    {
      "cell_type": "code",
      "execution_count": null,
      "metadata": {
        "id": "OqIVmVnYn31n"
      },
      "outputs": [],
      "source": [
        ""
      ]
    },
    {
      "cell_type": "markdown",
      "metadata": {
        "id": "DVHmWhFQn31o"
      },
      "source": [
        "## Grafico della curva di apprendimento"
      ]
    },
    {
      "cell_type": "code",
      "execution_count": null,
      "metadata": {
        "id": "GLryoGThn31p"
      },
      "outputs": [],
      "source": [
        ""
      ]
    },
    {
      "cell_type": "markdown",
      "metadata": {
        "id": "t1-5cz_Bn31p"
      },
      "source": [
        "## Valutazione sul Test Set"
      ]
    },
    {
      "cell_type": "code",
      "execution_count": null,
      "metadata": {
        "id": "_UBigkc-n31q"
      },
      "outputs": [],
      "source": [
        ""
      ]
    },
    {
      "cell_type": "markdown",
      "metadata": {
        "id": "vMWNrC0Tn31q"
      },
      "source": [
        "## Risultato su un'immagine del Test Set"
      ]
    },
    {
      "cell_type": "code",
      "execution_count": null,
      "metadata": {
        "id": "mmYgFIKnn31r"
      },
      "outputs": [],
      "source": [
        ""
      ]
    }
  ],
  "metadata": {
    "accelerator": "GPU",
    "colab": {
      "collapsed_sections": [
        "p9vej9xTCko7"
      ],
      "name": "ProgettoLabIA.ipynb",
      "provenance": [],
      "authorship_tag": "ABX9TyMksn18G2qhxjWH/UWhGr/+",
      "include_colab_link": true
    },
    "kernelspec": {
      "display_name": "Python 3",
      "name": "python3"
    },
    "language_info": {
      "name": "python"
    }
  },
  "nbformat": 4,
  "nbformat_minor": 0
}